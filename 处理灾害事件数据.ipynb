{
 "cells": [
  {
   "cell_type": "markdown",
   "metadata": {},
   "source": [
    "# 行政区划转行政区代码"
   ]
  },
  {
   "cell_type": "code",
   "execution_count": null,
   "metadata": {},
   "outputs": [],
   "source": [
    "import pandas as pd\n",
    "df_table=pd.read_csv(\"矢量数据/行政区划.csv\",encoding='GB18030',converters = {'code':str})\n",
    "# code=df_table[df_table[\"region\"].str.contains(\"洛龙区\")].iloc[0,0]\n",
    "# print(code)"
   ]
  },
  {
   "cell_type": "code",
   "execution_count": null,
   "metadata": {},
   "outputs": [],
   "source": [
    "locations=\"阜南县、颍上县\"\n",
    "\n",
    "loc_list=locations.split(\"、\")\n",
    "code_text=\"\"\n",
    "for loc in range(len(loc_list)):\n",
    "    code=df_table[df_table[\"region\"].str.contains(loc_list[loc])].iloc[0,0]\n",
    "    code_text=code_text+code+\";\"\n",
    "code_text=code_text.strip(\";\")\n",
    "print(code_text)"
   ]
  },
  {
   "cell_type": "markdown",
   "metadata": {},
   "source": [
    "# csv数据转ttl\n",
    "\n",
    "1. 处理DisasterEventType\n",
    "\n",
    "由于DisasterEventType的值是按label赋的，所以在实际进行关联的时候，要转化为相应的IRI后缀（全部小写，去掉空格和短横线）\n",
    "\n",
    "2. 拼接实例字符串\n",
    "\n",
    "根据实例关系拼接三元组字符串"
   ]
  },
  {
   "cell_type": "markdown",
   "metadata": {},
   "source": [
    "## 读取csv"
   ]
  },
  {
   "cell_type": "code",
   "execution_count": 5,
   "metadata": {},
   "outputs": [
    {
     "data": {
      "text/html": [
       "<div>\n",
       "<style scoped>\n",
       "    .dataframe tbody tr th:only-of-type {\n",
       "        vertical-align: middle;\n",
       "    }\n",
       "\n",
       "    .dataframe tbody tr th {\n",
       "        vertical-align: top;\n",
       "    }\n",
       "\n",
       "    .dataframe thead th {\n",
       "        text-align: right;\n",
       "    }\n",
       "</style>\n",
       "<table border=\"1\" class=\"dataframe\">\n",
       "  <thead>\n",
       "    <tr style=\"text-align: right;\">\n",
       "      <th></th>\n",
       "      <th>中文名</th>\n",
       "      <th>发生时间</th>\n",
       "      <th>DisasterIdentifier</th>\n",
       "      <th>hasBeginning</th>\n",
       "      <th>hasEnd</th>\n",
       "      <th>administrativeDivision</th>\n",
       "      <th>hasDisasterEventType</th>\n",
       "      <th>hasDisasterEventType.1</th>\n",
       "      <th>DisasterEventType</th>\n",
       "      <th>description</th>\n",
       "    </tr>\n",
       "  </thead>\n",
       "  <tbody>\n",
       "    <tr>\n",
       "      <th>0</th>\n",
       "      <td>1939年天津水灾</td>\n",
       "      <td>1939-08-20</td>\n",
       "      <td>19390820_120000</td>\n",
       "      <td>1939-08-20 00:00:00</td>\n",
       "      <td>1939-10-10 00:00:00</td>\n",
       "      <td>120000</td>\n",
       "      <td>Storm Flood</td>\n",
       "      <td>NaN</td>\n",
       "      <td>Storm Flood</td>\n",
       "      <td>1939年天津水灾是1939年8月至10月期间在中国天津发生的一次洪水灾害。这场灾害造成当时...</td>\n",
       "    </tr>\n",
       "    <tr>\n",
       "      <th>1</th>\n",
       "      <td>1963年海河特大洪水</td>\n",
       "      <td>1963-08-01</td>\n",
       "      <td>19630801_130000</td>\n",
       "      <td>1963-08-02 00:00:00</td>\n",
       "      <td>1963-08-09 00:00:00</td>\n",
       "      <td>130000</td>\n",
       "      <td>Storm Flood</td>\n",
       "      <td>NaN</td>\n",
       "      <td>Storm Flood</td>\n",
       "      <td>1963年海河特大洪水：1963年8月海河流域的暴雨造成的特大洪水是海河南系（南运河、子牙河...</td>\n",
       "    </tr>\n",
       "    <tr>\n",
       "      <th>2</th>\n",
       "      <td>1975河南驻马店特大暴雨</td>\n",
       "      <td>1975-08-08</td>\n",
       "      <td>19750808_411700</td>\n",
       "      <td>1975-08-08 00:00:00</td>\n",
       "      <td>1975-08-08 00:00:00</td>\n",
       "      <td>411700</td>\n",
       "      <td>Dam-break Flood</td>\n",
       "      <td>NaN</td>\n",
       "      <td>Dam-break Flood</td>\n",
       "      <td>1975年8月，在河南省驻马店等地区、1万多平方公里的土地上，共计60多个水库相继发生垮坝溃...</td>\n",
       "    </tr>\n",
       "  </tbody>\n",
       "</table>\n",
       "</div>"
      ],
      "text/plain": [
       "             中文名       发生时间 DisasterIdentifier         hasBeginning  \\\n",
       "0      1939年天津水灾 1939-08-20    19390820_120000  1939-08-20 00:00:00   \n",
       "1    1963年海河特大洪水 1963-08-01    19630801_130000  1963-08-02 00:00:00   \n",
       "2  1975河南驻马店特大暴雨 1975-08-08    19750808_411700  1975-08-08 00:00:00   \n",
       "\n",
       "                hasEnd administrativeDivision hasDisasterEventType  \\\n",
       "0  1939-10-10 00:00:00                 120000          Storm Flood   \n",
       "1  1963-08-09 00:00:00                 130000          Storm Flood   \n",
       "2  1975-08-08 00:00:00                 411700      Dam-break Flood   \n",
       "\n",
       "  hasDisasterEventType.1 DisasterEventType  \\\n",
       "0                    NaN       Storm Flood   \n",
       "1                    NaN       Storm Flood   \n",
       "2                    NaN   Dam-break Flood   \n",
       "\n",
       "                                         description  \n",
       "0  1939年天津水灾是1939年8月至10月期间在中国天津发生的一次洪水灾害。这场灾害造成当时...  \n",
       "1  1963年海河特大洪水：1963年8月海河流域的暴雨造成的特大洪水是海河南系（南运河、子牙河...  \n",
       "2  1975年8月，在河南省驻马店等地区、1万多平方公里的土地上，共计60多个水库相继发生垮坝溃...  "
      ]
     },
     "execution_count": 5,
     "metadata": {},
     "output_type": "execute_result"
    }
   ],
   "source": [
    "import pandas as pd\n",
    "df=pd.read_excel(\"./disaster-data/data.xlsx\",sheet_name=\"partofData2\",dtype={\"hasBeginning\": \"string\",\"hasEnd\": \"string\"})\n",
    "df.head(3)"
   ]
  },
  {
   "cell_type": "markdown",
   "metadata": {},
   "source": [
    "## 新建一个ttl文件并写入前缀"
   ]
  },
  {
   "cell_type": "code",
   "execution_count": 2,
   "metadata": {},
   "outputs": [],
   "source": [
    "# 创建一个ttl文件，文件名为filename,并向文件写入prefix\n",
    "def ttl_create(filename, prefix):\n",
    "    relative_path = \"./rdf/\"  # 新创建的txt文件的存放路径\n",
    "    full_path = relative_path + filename + '.ttl'  \n",
    "    file = open(full_path, 'w')\n",
    "    file.write(prefix)   #msg也就是下面的Hello world!\n",
    "    file.close()\n",
    "\n",
    "name=\"灾害事件实例\"\n",
    "prefix='''@prefix : <http://www.semanticweb.org/wen/ontologies/2022/8/FloodDisasterEventOntology#> .\n",
    "@prefix dc: <http://purl.org/dc/elements/1.1/> .\n",
    "@prefix owl: <http://www.w3.org/2002/07/owl#> .\n",
    "@prefix rdf: <http://www.w3.org/1999/02/22-rdf-syntax-ns#> .\n",
    "@prefix xml: <http://www.w3.org/XML/1998/namespace> .\n",
    "@prefix xsd: <http://www.w3.org/2001/XMLSchema#> .\n",
    "@prefix foaf: <http://xmlns.com/foaf/0.1/> .\n",
    "@prefix rdfs: <http://www.w3.org/2000/01/rdf-schema#> .\n",
    "@prefix skos: <http://www.w3.org/2004/02/skos/core#> .\n",
    "@prefix time: <http://www.w3.org/2006/time#> .\n",
    "@prefix vann: <http://purl.org/vocab/vann/> .\n",
    "@prefix terms: <http://purl.org/dc/terms/> .\n",
    "@prefix schema: <http://schema.org/> .\n",
    "@base <http://www.semanticweb.org/wen/ontologies/2022/8/FloodDisasterEventOntology> .\n",
    "\n",
    "'''\n",
    "\n",
    "ttl_create(name, prefix)\n"
   ]
  },
  {
   "cell_type": "markdown",
   "metadata": {},
   "source": [
    "## 创建日期实例\n"
   ]
  },
  {
   "cell_type": "code",
   "execution_count": 6,
   "metadata": {},
   "outputs": [],
   "source": [
    "# 获取日期列表\n",
    "begin_list=df['hasBeginning'].tolist()\n",
    "end_list=df[\"hasEnd\"].tolist()\n",
    "date_list=list(set(begin_list+end_list))\n",
    "\n",
    "# 创建日期实例\n",
    "def transfer_dateIndividual(dateStr):\n",
    "    Y=dateStr[0:4]\n",
    "    M=int(dateStr[4:6])\n",
    "    D=int(dateStr[6:8])\n",
    "\n",
    "    text=f'''###  http://www.semanticweb.org/wen/ontologies/2022/8/FloodDisasterEventOntology#{dateStr}\n",
    "<http://www.semanticweb.org/wen/ontologies/2022/8/FloodDisasterEventOntology#{dateStr}> \n",
    "rdf:type owl:NamedIndividual ,time:Instant ;\n",
    "time:day {D} ;\n",
    "time:month {M} ;\n",
    "time:year {Y} .\n",
    "\n",
    "'''\n",
    "    return text\n",
    "\n",
    "\n",
    "def create_dateIndividual(filename,date_list):\n",
    "    with open(\"./rdf/灾害事件实例.ttl\", \"r\",encoding=\"utf-8\") as f:  #打开文本\n",
    "        origin_file = f.read()   #读取文本\n",
    "        f.close()\n",
    "\n",
    "    file = open(filename, 'a')\n",
    "\n",
    "\n",
    "    # 遍历datelist\n",
    "    for i in range(len(date_list)):\n",
    "        date_list[i]=date_list[i].replace(\"-\",\"\")\n",
    "        date_list[i]=date_list[i][0:8]\n",
    "        dateindividual=\"http://www.semanticweb.org/wen/ontologies/2022/8/FloodDisasterEventOntology#\"+str(date_list[i]);\n",
    "        # 先检查有没有已存在的\n",
    "        if dateindividual in origin_file:\n",
    "            break\n",
    "        dateIndi_text=transfer_dateIndividual(str(date_list[i]))\n",
    "        file.write(dateIndi_text)   #msg也就是下面的Hello world!\n",
    "    \n",
    "    file.close()\n",
    "\n",
    "create_dateIndividual(\"./rdf/灾害事件实例.ttl\",date_list)"
   ]
  },
  {
   "cell_type": "markdown",
   "metadata": {},
   "source": [
    "## 处理DisasterEventType"
   ]
  },
  {
   "cell_type": "code",
   "execution_count": 7,
   "metadata": {},
   "outputs": [
    {
     "data": {
      "text/plain": [
       "'stormflood'"
      ]
     },
     "execution_count": 7,
     "metadata": {},
     "output_type": "execute_result"
    }
   ],
   "source": [
    "def transferDET(eventType):\n",
    "    DisasterEventType={\n",
    "        \"Dam-break Flood\":\"dambreakflood\", \n",
    "        \"Ice Flood\":\"iceflood\", \n",
    "        \"Lake Flood\":\"lakeflood\", \n",
    "        \"Snowmelt Flood\":\"snowmeltflood\", \n",
    "        \"Storm Flood\":\"stormflood\", \n",
    "        \"Storm Surge Flood\":\"stormsurgeflood\", \n",
    "        \"Torrential Flood\":\"torrentialflood\", \n",
    "        \"Urban  Waterlogging\":\"urbanwaterlogging\", \n",
    "        \"Waterlogging\":\"waterlogging\"\n",
    "    }\n",
    "    return DisasterEventType[eventType]\n",
    "\n",
    "transferDET(\"Storm Flood\")"
   ]
  },
  {
   "cell_type": "markdown",
   "metadata": {},
   "source": [
    "## 创建事件实例\n"
   ]
  },
  {
   "cell_type": "code",
   "execution_count": 13,
   "metadata": {},
   "outputs": [],
   "source": [
    "def create_eventIndividual(df):\n",
    "    text=\"\"\n",
    "    for index, row in df.iterrows():\n",
    "        # print(index,row['中文名'].strip(),row['DisasterIdentifier']) \n",
    "        identifier=row['DisasterIdentifier']\n",
    "        beginning=row['hasBeginning']\n",
    "        beginning=beginning.replace(\"-\",\"\")\n",
    "        beginning=beginning[0:8]\n",
    "        end=row['hasEnd']\n",
    "        end=end.replace(\"-\",\"\")\n",
    "        end=end[0:8]\n",
    "        label=row['中文名'].strip()\n",
    "        aDivision=str(row['administrativeDivision']).replace(';',',')\n",
    "        eventType=row['DisasterEventType'].replace(' ','').replace(';',\",:\").replace('-','').lower()\n",
    "        description=row['description']\n",
    "        if not pd.isnull(description):\n",
    "            description=description.replace('\\n', '')\n",
    "\n",
    "        event_text=f'''###  http://www.semanticweb.org/wen/ontologies/2022/8/FloodDisasterEventOntology#{identifier}\n",
    "<http://www.semanticweb.org/wen/ontologies/2022/8/FloodDisasterEventOntology#{identifier}> \n",
    "rdf:type owl:NamedIndividual , :DisasterEvent ;\n",
    ":hasDisasterEventType :{eventType} ;\n",
    ":begin <http://www.semanticweb.org/wen/ontologies/2022/8/FloodDisasterEventOntology#{beginning}> ;\n",
    ":end <http://www.semanticweb.org/wen/ontologies/2022/8/FloodDisasterEventOntology#{end}> ;\n",
    ":DisasterIdentifier \"{identifier}\" ;\n",
    ":administrativeDivision {aDivision} ;\n",
    ":description \"{description}\"^^rdfs:Literal ;\n",
    "rdfs:label \"{label}\"@zh.\n",
    "\n",
    "'''\n",
    "        text=text+event_text\n",
    "    return text\n",
    "\n",
    "text= create_eventIndividual(df)\n",
    "file = open(\"./rdf/灾害事件实例.ttl\", 'a',encoding=\"utf-8\")\n",
    "file.write(text)\n",
    "file.close()\n"
   ]
  }
 ],
 "metadata": {
  "kernelspec": {
   "display_name": "Python 3.7.10 ('public_3.7')",
   "language": "python",
   "name": "python3"
  },
  "language_info": {
   "codemirror_mode": {
    "name": "ipython",
    "version": 3
   },
   "file_extension": ".py",
   "mimetype": "text/x-python",
   "name": "python",
   "nbconvert_exporter": "python",
   "pygments_lexer": "ipython3",
   "version": "3.7.10"
  },
  "orig_nbformat": 4,
  "vscode": {
   "interpreter": {
    "hash": "c3e020ab0827a27d90f9d2fa2437e75d699e80a3c375730362d4315d8ebb6622"
   }
  }
 },
 "nbformat": 4,
 "nbformat_minor": 2
}
