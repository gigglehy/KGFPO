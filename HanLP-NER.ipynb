{
 "cells": [
  {
   "cell_type": "code",
   "execution_count": 39,
   "metadata": {},
   "outputs": [
    {
     "data": {
      "text/plain": [
       "{'msg': 'It is illegal to token !', 'status': 500}"
      ]
     },
     "execution_count": 39,
     "metadata": {},
     "output_type": "execute_result"
    }
   ],
   "source": [
    "from hanlp_restful import HanLPClient\n",
    "TOKEN=''\n",
    "# HanLP = HanLPClient('http://comdo.hanlp.com/hanlp/v21/ner/nerMsra', auth=None, language='zh')\n",
    "HanLP = HanLPClient('http://comdo.hanlp.com/hanlp/v21/ner/nerMsra', auth=TOKEN, language='zh')\n",
    "\n",
    "sentence='9月24日以来，黑龙江省部分地区遭受洪涝灾害，造成绥化市绥棱县、哈尔滨市木兰县、牡丹江市林口县近3100人受灾；直接经济损失1000余万元。'\n",
    "# print(HanLP(sentence ,tasks='ner*'))\n",
    "HanLP.parse(sentence,tasks='ner')"
   ]
  },
  {
   "cell_type": "code",
   "execution_count": 48,
   "metadata": {},
   "outputs": [],
   "source": [
    "import requests\n",
    "import json\n",
    "\n",
    "def GET(url):\n",
    "    #get请求\n",
    "    req = requests.get(url)\n",
    "    #输出状态码\n",
    "    print(req.status_code)\n",
    "    #输出返回内容\n",
    "    print(req.text)\n",
    "\n",
    "def POST(url,data,token,cookie=\"\"):\n",
    "    #post参数\n",
    "    post_data={\n",
    "        \"text\":data\n",
    "    }\n",
    "    #post 请求头\n",
    "    headers = {\n",
    "        \"User-Agent\": \"Mozilla/5.0 (Linux; Android 6.0; Nexus 5 Build/MRA58N) AppleWebKit/537.36 (KHTML, like Gecko) Chrome/75.0.3770.142 Mobile Safari/537.36\",\n",
    "        \"Cookie\": cookie,\"token\":token}\n",
    "    \n",
    "    req = requests.post(url,params=post_data,headers=headers)\n",
    "    \n",
    "    # #注意：如果post_data是字典json形式的，如下，参数一般用json=\n",
    "    # post_data = {\"a\":1,\"b\":2}\n",
    "    # req = requests.post(url,json=post_data,headers=headers)\n",
    "    \n",
    "    #如果req返回的json数据，则可以用json的一个函数转换\n",
    "    data = json.loads(req.text)\n",
    "    \n",
    "    # print(req.status_code)\n",
    "    # print(req.text)\n",
    "    return data"
   ]
  },
  {
   "cell_type": "markdown",
   "metadata": {},
   "source": [
    "## NER 命名实体识别"
   ]
  },
  {
   "cell_type": "code",
   "execution_count": 44,
   "metadata": {},
   "outputs": [
    {
     "name": "stdout",
     "output_type": "stream",
     "text": [
      "[['9月24日', 'DATE', 0, 2], ['黑龙江省', 'LOCATION', 4, 5], ['绥化市', 'LOCATION', 12, 13], ['绥棱县', 'LOCATION', 13, 14], ['哈尔滨市', 'LOCATION', 15, 16], ['木兰县', 'LOCATION', 16, 17], ['牡丹江市', 'LOCATION', 18, 19], ['林口县', 'LOCATION', 19, 20], ['3100', 'INTEGER', 21, 22], ['800', 'INTEGER', 29, 30], ['200', 'INTEGER', 34, 35], ['万元', 'MONEY', 43, 44]]\n"
     ]
    }
   ],
   "source": [
    "url=\"http://comdo.hanlp.com/hanlp/v21/ner/nerMsra\"\n",
    "TOKEN=''\n",
    "sentence=\"9月24日以来，黑龙江省部分地区遭受洪涝灾害，造成绥化市绥棱县、哈尔滨市木兰县、牡丹江市林口县近3100人受灾；农作物受灾面积近800公顷，其中绝收200余公顷；直接经济损失1000余万元。\"\n",
    "ner_res = POST(url,sentence,TOKEN)\n",
    "print(ner_res[0])"
   ]
  },
  {
   "cell_type": "markdown",
   "metadata": {},
   "source": [
    "## 语义依存分析\n"
   ]
  },
  {
   "cell_type": "code",
   "execution_count": 53,
   "metadata": {},
   "outputs": [
    {
     "name": "stdout",
     "output_type": "stream",
     "text": [
      "{\n",
      "  \"msg\": \"It is illegal to token !\",\n",
      "  \"status\": 500\n",
      "}\n"
     ]
    }
   ],
   "source": [
    "from hanlp_restful import HanLPClient\n",
    "TOKEN=''\n",
    "HanLP = HanLPClient('http://comdo.hanlp.com/hanlp/v21/dep/dep', auth=TOKEN, language='zh')\n",
    "sentence=\"9月24日以来，黑龙江省部分地区遭受洪涝灾害，造成绥化市绥棱县、哈尔滨市木兰县、牡丹江市林口县近3100人受灾；农作物受灾面积近800公顷，其中绝收200余公顷；直接经济损失1000余万元。\"\n",
    "\n",
    "doc = HanLP.parse(sentence, tasks='sdp')\n",
    "print(doc)"
   ]
  },
  {
   "cell_type": "code",
   "execution_count": 57,
   "metadata": {},
   "outputs": [
    {
     "name": "stdout",
     "output_type": "stream",
     "text": [
      "[[[[2, 'Tmod']], [[8, 'Time']], [[2, 'mTime']], [[2, 'mPunc']], [[7, 'Loc']], [[7, 'Quan']], [[8, 'Exp']], [[0, 'Root']], [[10, 'Desc']], [[8, 'Cont']], [[8, 'mPunc']], [[8, 'eResu']], [[14, 'Nmod']], [[17, 'eCoo']], [[14, 'mPunc']], [[17, 'Nmod']], [[20, 'eCoo']], [[17, 'mPunc']], [[17, 'Nmod'], [20, 'Nmod']], [[23, 'Nmod']], [[23, 'mMod']], [[23, 'Quan']], [[24, 'Exp']], [[12, 'dCons']], [[24, 'mPunc']], [[27, 'Exp']], [[28, 'Host']], [[31, 'Exp']], [[30, 'mMod']], [[31, 'Quan']], [[24, 'Qp']], [[24, 'mPunc']], [[34, 'mConj']], [[12, 'eProg']], [[37, 'Quan']], [[37, 'Quan']], [[34, 'Qp']], [[34, 'mPunc']], [[41, 'Mann']], [[41, 'Desc']], [[34, 'eCoo']], [[44, 'Quan']], [[42, 'mRang']], [[41, 'Qp']], [[41, 'mPunc']]]]\n"
     ]
    }
   ],
   "source": [
    "url=\"http://comdo.hanlp.com/hanlp/v21/sdp/sdp\"\n",
    "TOKEN=''\n",
    "sentence=\"9月24日以来，黑龙江省部分地区遭受洪涝灾害，造成绥化市绥棱县、哈尔滨市木兰县、牡丹江市林口县近3100人受灾；农作物受灾面积近800公顷，其中绝收200余公顷；直接经济损失1000余万元。\"\n",
    "res = POST(url,sentence,TOKEN)\n",
    "print(res[\"data\"][\"sdp\"])\n"
   ]
  },
  {
   "cell_type": "markdown",
   "metadata": {},
   "source": [
    "## 语义角色分析\n"
   ]
  },
  {
   "cell_type": "code",
   "execution_count": 58,
   "metadata": {},
   "outputs": [
    {
     "name": "stdout",
     "output_type": "stream",
     "text": [
      "[[[['9月24日以来', 'ARGM-TMP', 0, 3], ['黑龙江省部分地区', 'ARG0', 4, 7], ['遭受', 'PRED', 7, 8], ['洪涝灾害', 'ARG1', 8, 10]], [['造成', 'PRED', 11, 12], ['绥化市绥棱县、哈尔滨市木兰县、牡丹江市林口县近3100人受灾', 'ARG1', 12, 24]], [['绥化市绥棱县、哈尔滨市木兰县、牡丹江市林口县近3100人', 'ARG0', 12, 23], ['受灾', 'PRED', 23, 24]], [['农作物', 'ARG0', 25, 26], ['受灾', 'PRED', 26, 27]]]]\n"
     ]
    }
   ],
   "source": [
    "url=\"http://comdo.hanlp.com/hanlp/v21/srl/srl\"\n",
    "TOKEN=''\n",
    "sentence=\"9月24日以来，黑龙江省部分地区遭受洪涝灾害，造成绥化市绥棱县、哈尔滨市木兰县、牡丹江市林口县近3100人受灾；农作物受灾面积近800公顷，其中绝收200余公顷；直接经济损失1000余万元。\"\n",
    "res = POST(url,sentence,TOKEN)\n",
    "print(res[\"data\"][\"srl\"])\n"
   ]
  },
  {
   "cell_type": "markdown",
   "metadata": {},
   "source": [
    "## 联合处理任务\n",
    "- 接口地址：http://comdo.hanlp.com/hanlp/v21/al/all\n",
    "- TOKEN=''\n",
    "- 建立时间：2022-11-21 22:00:39"
   ]
  },
  {
   "cell_type": "code",
   "execution_count": 61,
   "metadata": {},
   "outputs": [
    {
     "name": "stdout",
     "output_type": "stream",
     "text": [
      "[[[['9月24日以来', 'ARGM-TMP', 0, 3], ['黑龙江省部分地区', 'ARG0', 4, 7], ['遭受', 'PRED', 7, 8], ['洪涝灾害', 'ARG1', 8, 10]], [['造成', 'PRED', 11, 12], ['绥化市绥棱县、哈尔滨市木兰县、牡丹江市林口县近3100人受灾', 'ARG1', 12, 24]], [['绥化市绥棱县、哈尔滨市木兰县、牡丹江市林口县近3100人', 'ARG0', 12, 23], ['受灾', 'PRED', 23, 24]], [['农作物', 'ARG0', 25, 26], ['受灾', 'PRED', 26, 27]]]]\n"
     ]
    }
   ],
   "source": [
    "url=\"http://comdo.hanlp.com/hanlp/v21/al/all\"\n",
    "TOKEN=''\n",
    "sentence=\"9月24日以来，黑龙江省部分地区遭受洪涝灾害，造成绥化市绥棱县、哈尔滨市木兰县、牡丹江市林口县近3100人受灾；农作物受灾面积近800公顷，其中绝收200余公顷；直接经济损失1000余万元。\"\n",
    "res = POST(url,sentence,TOKEN)\n",
    "print(res[\"data\"][\"srl\"])\n"
   ]
  },
  {
   "cell_type": "code",
   "execution_count": 62,
   "metadata": {},
   "outputs": [
    {
     "name": "stdout",
     "output_type": "stream",
     "text": [
      "{\n",
      "  \"msg\": \"It is illegal to token !\",\n",
      "  \"status\": 500\n",
      "}\n"
     ]
    }
   ],
   "source": [
    "from hanlp_restful import HanLPClient\n",
    "TOKEN=''\n",
    "HanLP = HanLPClient('http://comdo.hanlp.com/hanlp/v21/al/all', auth=TOKEN, language='zh')\n",
    "sentence=\"9月24日以来，黑龙江省部分地区遭受洪涝灾害，造成绥化市绥棱县、哈尔滨市木兰县、牡丹江市林口县近3100人受灾；农作物受灾面积近800公顷，其中绝收200余公顷；直接经济损失1000余万元。\"\n",
    "\n",
    "doc = HanLP.parse(sentence, tasks='amr')\n",
    "print(doc)"
   ]
  }
 ],
 "metadata": {
  "kernelspec": {
   "display_name": "public_3.7",
   "language": "python",
   "name": "python3"
  },
  "language_info": {
   "codemirror_mode": {
    "name": "ipython",
    "version": 3
   },
   "file_extension": ".py",
   "mimetype": "text/x-python",
   "name": "python",
   "nbconvert_exporter": "python",
   "pygments_lexer": "ipython3",
   "version": "3.7.10 (default, Feb 26 2021, 13:06:18) [MSC v.1916 64 bit (AMD64)]"
  },
  "orig_nbformat": 4,
  "vscode": {
   "interpreter": {
    "hash": "c3e020ab0827a27d90f9d2fa2437e75d699e80a3c375730362d4315d8ebb6622"
   }
  }
 },
 "nbformat": 4,
 "nbformat_minor": 2
}
