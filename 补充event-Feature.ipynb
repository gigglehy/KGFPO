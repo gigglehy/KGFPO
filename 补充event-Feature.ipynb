{
 "cells": [
  {
   "cell_type": "code",
   "execution_count": null,
   "metadata": {},
   "outputs": [],
   "source": [
    "import pandas as pd \n",
    "df=pd.read_excel('./disaster-data/data.xlsx',sheet_name='event-Feature',dtype={\"administrativeDivision\": \"string\"})\n",
    "df.head()"
   ]
  },
  {
   "cell_type": "code",
   "execution_count": null,
   "metadata": {},
   "outputs": [],
   "source": [
    "# 创建一个ttl文件，文件名为filename,并向文件写入prefix\n",
    "def ttl_create(filename, prefix):\n",
    "    relative_path = \"./rdf/\"  # 新创建的txt文件的存放路径\n",
    "    full_path = relative_path + filename + '.ttl'  \n",
    "    file = open(full_path, 'w')\n",
    "    file.write(prefix)   #msg也就是下面的Hello world!\n",
    "    file.close()\n",
    "\n",
    "name=\"event-Feature\"\n",
    "prefix='''@prefix : <http://www.semanticweb.org/wen/ontologies/2022/8/FloodDisasterEventOntology#> .\n",
    "@prefix dc: <http://purl.org/dc/elements/1.1/> .\n",
    "@prefix owl: <http://www.w3.org/2002/07/owl#> .\n",
    "@prefix rdf: <http://www.w3.org/1999/02/22-rdf-syntax-ns#> .\n",
    "@prefix xml: <http://www.w3.org/XML/1998/namespace> .\n",
    "@prefix xsd: <http://www.w3.org/2001/XMLSchema#> .\n",
    "@prefix foaf: <http://xmlns.com/foaf/0.1/> .\n",
    "@prefix rdfs: <http://www.w3.org/2000/01/rdf-schema#> .\n",
    "@prefix skos: <http://www.w3.org/2004/02/skos/core#> .\n",
    "@prefix time: <http://www.w3.org/2006/time#> .\n",
    "@prefix vann: <http://purl.org/vocab/vann/> .\n",
    "@prefix terms: <http://purl.org/dc/terms/> .\n",
    "@prefix schema: <http://schema.org/> .\n",
    "@base <http://www.semanticweb.org/wen/ontologies/2022/8/FloodDisasterEventOntology> .\n",
    "\n",
    "'''\n",
    "\n",
    "ttl_create(name, prefix)\n"
   ]
  },
  {
   "cell_type": "code",
   "execution_count": null,
   "metadata": {},
   "outputs": [],
   "source": [
    "def create_data_res(df):\n",
    "    text=\"\"\n",
    "    for index,row in df.iterrows():\n",
    "        eventID=row[\"DisasterIdentifier\"]\n",
    "        feature=row[\"administrativeDivision\"]\n",
    "        feature=feature.replace(\",\",\", :region.\")\n",
    "        feature=\"region.\"+feature\n",
    "\n",
    "        text=text+f'''\n",
    ":{eventID} :geoFeature :{feature}.'''\n",
    "\n",
    "    return text\n",
    "    \n",
    "        \n",
    "text = create_data_res(df)    \n",
    "file = open(\"./rdf/event-Feature.ttl\", 'a',encoding=\"utf-8\")\n",
    "file.write(text)\n",
    "file.close()"
   ]
  }
 ],
 "metadata": {
  "kernelspec": {
   "display_name": "public_3.7",
   "language": "python",
   "name": "python3"
  },
  "language_info": {
   "codemirror_mode": {
    "name": "ipython",
    "version": 3
   },
   "file_extension": ".py",
   "mimetype": "text/x-python",
   "name": "python",
   "nbconvert_exporter": "python",
   "pygments_lexer": "ipython3",
   "version": "3.7.10"
  },
  "orig_nbformat": 4
 },
 "nbformat": 4,
 "nbformat_minor": 2
}
