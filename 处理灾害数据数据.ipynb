{
 "cells": [
  {
   "attachments": {},
   "cell_type": "markdown",
   "metadata": {},
   "source": [
    "# 处理灾害数据数据，将其入库\n",
    "\n",
    "数据：“./data-data/灾害数据数据表.xlsx”"
   ]
  },
  {
   "cell_type": "markdown",
   "metadata": {},
   "source": [
    "## 读取excel\n"
   ]
  },
  {
   "cell_type": "code",
   "execution_count": null,
   "metadata": {},
   "outputs": [],
   "source": [
    "import pandas as pd \n",
    "\n",
    "df=pd.read_excel('./data-data/灾害数据数据表.xlsx',sheet_name='process2',dtype={\"DataTimeRange1\": \"string\",\"DataTimeRange2\":\"string\",\"DataSpatialRange\":\"string\"})\n",
    "df.head(3)"
   ]
  },
  {
   "cell_type": "markdown",
   "metadata": {},
   "source": [
    "## 新建一个ttl文件并写入前缀"
   ]
  },
  {
   "cell_type": "code",
   "execution_count": null,
   "metadata": {},
   "outputs": [],
   "source": [
    "# 创建一个ttl文件，文件名为filename,并向文件写入prefix\n",
    "def ttl_create(filename, prefix):\n",
    "    relative_path = \"./rdf/\"  # 新创建的txt文件的存放路径\n",
    "    full_path = relative_path + filename + '.ttl'  \n",
    "    file = open(full_path, 'w')\n",
    "    file.write(prefix)   #msg也就是下面的Hello world!\n",
    "    file.close()\n",
    "\n",
    "name=\"灾害数据实例\"\n",
    "prefix='''@prefix : <http://www.semanticweb.org/wen/ontologies/2022/8/FloodDisasterEventOntology#> .\n",
    "@prefix dc: <http://purl.org/dc/elements/1.1/> .\n",
    "@prefix owl: <http://www.w3.org/2002/07/owl#> .\n",
    "@prefix rdf: <http://www.w3.org/1999/02/22-rdf-syntax-ns#> .\n",
    "@prefix xml: <http://www.w3.org/XML/1998/namespace> .\n",
    "@prefix xsd: <http://www.w3.org/2001/XMLSchema#> .\n",
    "@prefix foaf: <http://xmlns.com/foaf/0.1/> .\n",
    "@prefix rdfs: <http://www.w3.org/2000/01/rdf-schema#> .\n",
    "@prefix skos: <http://www.w3.org/2004/02/skos/core#> .\n",
    "@prefix time: <http://www.w3.org/2006/time#> .\n",
    "@prefix vann: <http://purl.org/vocab/vann/> .\n",
    "@prefix terms: <http://purl.org/dc/terms/> .\n",
    "@prefix schema: <http://schema.org/> .\n",
    "@base <http://www.semanticweb.org/wen/ontologies/2022/8/FloodDisasterEventOntology> .\n",
    "\n",
    "'''\n",
    "\n",
    "ttl_create(name, prefix)\n"
   ]
  },
  {
   "attachments": {},
   "cell_type": "markdown",
   "metadata": {},
   "source": [
    "需要先创建日期实例和矢量地理要素，然后再创建数据实例，并将其关联到相应的日期实例和地理要素"
   ]
  },
  {
   "attachments": {},
   "cell_type": "markdown",
   "metadata": {},
   "source": [
    "## 创建日期实例\n",
    "先去除空值，然后将日期字符串根据长度分为年份和年月日两种：\n",
    "- 针对年份数据，可以直接创建日期实例\n",
    "- 针对年月日数据，可以依次分割出year、month和day，然后创建实例"
   ]
  },
  {
   "cell_type": "code",
   "execution_count": null,
   "metadata": {},
   "outputs": [],
   "source": [
    "date_from=df['DataTimeRange1'].tolist()\n",
    "date_to=df['DataTimeRange2'].tolist()\n",
    "date_list=list(set(date_from+date_to))\n",
    "print(date_list)"
   ]
  },
  {
   "cell_type": "code",
   "execution_count": null,
   "metadata": {},
   "outputs": [],
   "source": [
    "print(date_list[50])\n",
    "pd.isnull(date_list[50])"
   ]
  },
  {
   "cell_type": "code",
   "execution_count": null,
   "metadata": {},
   "outputs": [],
   "source": [
    "\n",
    "text=\"\"\n",
    "for date in date_list:\n",
    "    \n",
    "    if pd.isnull(date):\n",
    "        continue\n",
    "    date=date[0:10].replace(\"-\",\"\")\n",
    "    if len(date)>4:     # 创建“年月日”日期实例\n",
    "        Y=date[0:4]\n",
    "        M=str(int(date[4:6]))\n",
    "        D=str(int(date[6:8]))\n",
    "        date_text=f'''\n",
    "###  http://www.semanticweb.org/wen/ontologies/2022/8/FloodDisasterEventOntology#{date}\n",
    "<http://www.semanticweb.org/wen/ontologies/2022/8/FloodDisasterEventOntology#{date}> rdf:type owl:NamedIndividual ,time:Instant ;\n",
    "time:day {D} ;\n",
    "time:month {M} ;\n",
    "time:year {Y} .'''\n",
    "    else:   # 创建年份实例\n",
    "        date_text=f'''\n",
    "###  http://www.semanticweb.org/wen/ontologies/2022/8/FloodDisasterEventOntology#{date}\n",
    "<http://www.semanticweb.org/wen/ontologies/2022/8/FloodDisasterEventOntology#{date}> rdf:type owl:NamedIndividual ,time:Instant ;\n",
    "time:year {date} .'''\n",
    "    text=text+date_text\n",
    "\n",
    "# 写入文件\n",
    "file= open(\"./rdf/灾害数据实例.ttl\",\"a\")\n",
    "file.write(text)\n",
    "file.close()\n"
   ]
  },
  {
   "attachments": {},
   "cell_type": "markdown",
   "metadata": {},
   "source": [
    "## 创建矢量要素\n",
    "\n",
    "先根据字符串长度排除两个China区域，然后剩下的解析为west、east、south、north这四个坐标，然后拼接为矩形：\n",
    "\n",
    "polygon.XXXXXX\n",
    "POLYGON ((west north, west south, east south , east north, west north))\n",
    "\n",
    "\n",
    "> http://www.semanticweb.org/wen/ontologies/2022/8/FloodDisasterEventOntology#polygon.AWOFXE\n",
    ">:polygon.AWOFXE rdf:type owl:NamedIndividual ,\n",
    ">                         <http://www.opengis.net/ont/sf#Polygon> ;\n",
    ">                geosparql:asWKT \"POLYGON ((70 115, 70 55, 140 55 , 140 15, 70 115))\" ;\n",
    ">                skos:definition \"矩形区域：70-140°E, 15-55°N\" .\n"
   ]
  },
  {
   "cell_type": "code",
   "execution_count": null,
   "metadata": {},
   "outputs": [],
   "source": [
    "def create_rectFeature(df):\n",
    "    text=\"\";\n",
    "    for index,row in df.iterrows():\n",
    "        rect_id=row[\"featureID\"]\n",
    "        rect_str=row[\"DataSpatialRange\"]\n",
    "        if pd.isnull(rect_id):\n",
    "            continue\n",
    "        west,east,south,north=rect_str.split(\" \")\n",
    "        \n",
    "        fea_text=f'''\n",
    "###  http://www.semanticweb.org/wen/ontologies/2022/8/FloodDisasterEventOntology#polygon.{rect_id}\n",
    ":polygon.{rect_id} rdf:type owl:NamedIndividual , <http://www.opengis.net/ont/sf#Polygon> ;\n",
    "                geosparql:asWKT \"POLYGON (({west} {north}, {west} {south}, {east} {south} , {east} {north}, {west} {north}))\" ;\n",
    "                skos:definition \"矩形区域：{west}-{east}°E, {south}-{north}°N\" .\n",
    "        '''\n",
    "\n",
    "        text=text+fea_text\n",
    "    return text\n",
    "        \n",
    "text = create_rectFeature(df)    \n",
    "file = open(\"./rdf/灾害数据实例.ttl\", 'a',encoding=\"utf-8\")\n",
    "file.write(text)\n",
    "file.close()"
   ]
  },
  {
   "attachments": {},
   "cell_type": "markdown",
   "metadata": {},
   "source": [
    "## 创建数据实例\n"
   ]
  },
  {
   "cell_type": "code",
   "execution_count": null,
   "metadata": {},
   "outputs": [],
   "source": [
    "def create_dataIndividual(df):\n",
    "    text=\"\";\n",
    "    for index,row in df.iterrows():\n",
    "        identifier=row[\"DataIdentifier\"]\n",
    "        name=row[\"DataName\"]\n",
    "        description=row[\"DataDescription\"]\n",
    "        subclass=row[\"DataCategory\"].replace(\";\",\", :\")\n",
    "        begin=row[\"DataTimeRange1\"]\n",
    "        end=row[\"DataTimeRange2\"]\n",
    "        featureID=row[\"featureID\"]\n",
    "        dformat=row[\"DataFormat\"]+\"DataFormat\"\n",
    "        fileformat=row[\"fileFormat\"]\n",
    "        source=row[\"DataSource\"]\n",
    "        address=row[\"DataAddress\"]\n",
    "        srs=row[\"SRS-SRID\"]\n",
    "        s_resolution=row[\"SpatialResolution\"]\n",
    "        t_resolution=row[\"frequency\"]\n",
    "        bandNum=row[\"bandNum\"]\n",
    "        colNum=row[\"colNum\"]\n",
    "        rowNum=row[\"rowNum\"]\n",
    "        unit=row[\"unit\"]\n",
    "        otherInfo=[\"otherInfo\"]\n",
    "\n",
    "        \n",
    "        data_text=f'''\n",
    "###  http://www.semanticweb.org/wen/ontologies/2022/8/FloodDisasterEventOntology#{identifier}\n",
    ":{identifier} rdf:type owl:NamedIndividual , :{subclass} ;\n",
    ":hasFormat :{dformat} ;\n",
    ":dataAddress \"{address}\" ;\n",
    ":dataDescription \"{description}\" ;\n",
    ":dataIdentifier \"{identifier}\" ;\n",
    ":dataName \"{name}\" ;\n",
    ":dataSource \"{source}\" ;\n",
    ":dataformat \"{fileformat}\" ;\n",
    "rdfs:label \"{name}\" .\n",
    "'''\n",
    "\n",
    "        if not pd.isnull(begin):\n",
    "            if len(begin)>4:\n",
    "                begin=begin[0:10].replace(\"-\",\"\")\n",
    "            data_text=data_text+f'''\n",
    ":{identifier} :begin <http://www.semanticweb.org/wen/ontologies/2022/8/FloodDisasterEventOntology#{begin}> .'''\n",
    "\n",
    "        if not pd.isnull(end):\n",
    "            if len(end)>4:\n",
    "                end=end[0:10].replace(\"-\",\"\")\n",
    "            data_text=data_text+f'''\n",
    ":{identifier} :end <http://www.semanticweb.org/wen/ontologies/2022/8/FloodDisasterEventOntology#{end}> .'''\n",
    "        \n",
    "        if not pd.isnull(featureID):\n",
    "            data_text=data_text+f'''\n",
    ":{identifier} :geoFeature :polygon.{featureID} .'''\n",
    "\n",
    "        if not pd.isnull(bandNum):\n",
    "            data_text=data_text+f'''\n",
    ":{identifier} :bandNumber {bandNum} .'''\n",
    "\n",
    "        if not pd.isnull(colNum):\n",
    "            data_text=data_text+f'''\n",
    ":{identifier} :columnNumber {colNum} .'''\n",
    "\n",
    "        if not pd.isnull(rowNum):\n",
    "            data_text=data_text+f'''\n",
    ":{identifier} :rowNumber {rowNum} .'''\n",
    "\n",
    "        if not pd.isnull(unit):\n",
    "            data_text=data_text+f'''\n",
    ":{identifier} :statisticUnit \"{unit}\" .'''\n",
    "\n",
    "        if not pd.isnull(srs):\n",
    "            data_text=data_text+f'''\n",
    ":{identifier} :spatialReference \"{srs}\" .'''\n",
    "\n",
    "        if not pd.isnull(s_resolution):\n",
    "            data_text=data_text+f'''\n",
    ":{identifier} :spatialResolution \"{s_resolution}\" .'''\n",
    "        if not pd.isnull(t_resolution):\n",
    "            data_text=data_text+f'''\n",
    ":{identifier} :temporalResolution \"{t_resolution}\" .'''\n",
    "        if not pd.isnull(otherInfo):\n",
    "            data_text=data_text+f'''\n",
    ":{identifier} :otherInfo \"{otherInfo}\" .'''\n",
    "\n",
    "        text=text+data_text\n",
    "    return text\n",
    "        \n",
    "text = create_dataIndividual(df)    \n",
    "file = open(\"./rdf/灾害数据实例.ttl\", 'a',encoding=\"utf-8\")\n",
    "file.write(text)\n",
    "file.close()"
   ]
  }
 ],
 "metadata": {
  "kernelspec": {
   "display_name": "public_3.7",
   "language": "python",
   "name": "python3"
  },
  "language_info": {
   "codemirror_mode": {
    "name": "ipython",
    "version": 3
   },
   "file_extension": ".py",
   "mimetype": "text/x-python",
   "name": "python",
   "nbconvert_exporter": "python",
   "pygments_lexer": "ipython3",
   "version": "3.7.10"
  },
  "orig_nbformat": 4,
  "vscode": {
   "interpreter": {
    "hash": "c3e020ab0827a27d90f9d2fa2437e75d699e80a3c375730362d4315d8ebb6622"
   }
  }
 },
 "nbformat": 4,
 "nbformat_minor": 2
}
