{
 "cells": [
  {
   "cell_type": "markdown",
   "metadata": {},
   "source": [
    "# 百度AI接口测试"
   ]
  },
  {
   "cell_type": "code",
   "execution_count": 1,
   "metadata": {},
   "outputs": [
    {
     "name": "stdout",
     "output_type": "stream",
     "text": [
      "{\"items\":[{\"id\":1,\"postag\":\"n\",\"head\":12,\"word\":\"短时间\",\"deprel\":\"ADV\"},{\"id\":2,\"postag\":\"f\",\"head\":1,\"word\":\"内\",\"deprel\":\"F\"},{\"id\":3,\"postag\":\"p\",\"head\":12,\"word\":\"对\",\"deprel\":\"ADV\"},{\"id\":4,\"postag\":\"n\",\"head\":6,\"word\":\"暴雨\",\"deprel\":\"ATT\"},{\"id\":5,\"postag\":\"n\",\"head\":4,\"word\":\"洪涝\",\"deprel\":\"COO\"},{\"id\":6,\"postag\":\"n\",\"head\":3,\"word\":\"灾害\",\"deprel\":\"POB\"},{\"id\":7,\"postag\":\"v\",\"head\":10,\"word\":\"淹没\",\"deprel\":\"ATT\"},{\"id\":8,\"postag\":\"n\",\"head\":7,\"word\":\"土地\",\"deprel\":\"VOB\"},{\"id\":9,\"postag\":\"u\",\"head\":8,\"word\":\"的\",\"deprel\":\"MT\"},{\"id\":10,\"postag\":\"n\",\"head\":3,\"word\":\"范围\",\"deprel\":\"POB\"},{\"id\":11,\"postag\":\"ad\",\"head\":12,\"word\":\"准确\",\"deprel\":\"ADV\"},{\"id\":12,\"postag\":\"v\",\"head\":19,\"word\":\"监测\",\"deprel\":\"SBV\"},{\"id\":13,\"postag\":\"c\",\"head\":14,\"word\":\"并\",\"deprel\":\"MT\"},{\"id\":14,\"postag\":\"v\",\"head\":12,\"word\":\"进行\",\"deprel\":\"COO\"},{\"id\":15,\"postag\":\"vn\",\"head\":16,\"word\":\"受灾\",\"deprel\":\"ATT\"},{\"id\":16,\"postag\":\"n\",\"head\":17,\"word\":\"状况\",\"deprel\":\"ATT\"},{\"id\":17,\"postag\":\"vn\",\"head\":14,\"word\":\"评估\",\"deprel\":\"VOB\"},{\"id\":18,\"postag\":\"d\",\"head\":19,\"word\":\"十分\",\"deprel\":\"ADV\"},{\"id\":19,\"postag\":\"a\",\"head\":0,\"word\":\"必要\",\"deprel\":\"HED\"},{\"id\":20,\"postag\":\"w\",\"head\":19,\"word\":\"。\",\"deprel\":\"MT\"},{\"id\":21,\"postag\":\"v\",\"head\":19,\"word\":\"利用\",\"deprel\":\"IC\"},{\"id\":22,\"postag\":\"nz\",\"head\":23,\"word\":\"SAR\",\"deprel\":\"ATT\"},{\"id\":23,\"postag\":\"n\",\"head\":21,\"word\":\"影像\",\"deprel\":\"VOB\"},{\"id\":24,\"postag\":\"v\",\"head\":21,\"word\":\"提取\",\"deprel\":\"VV\"},{\"id\":25,\"postag\":\"LOC\",\"head\":26,\"word\":\"豫北\",\"deprel\":\"ATT\"},{\"id\":26,\"postag\":\"n\",\"head\":31,\"word\":\"地区\",\"deprel\":\"ATT\"},{\"id\":27,\"postag\":\"w\",\"head\":31,\"word\":\"“\",\"deprel\":\"MT\"},{\"id\":28,\"postag\":\"m\",\"head\":31,\"word\":\"7\",\"deprel\":\"ATT\"},{\"id\":29,\"postag\":\"w\",\"head\":28,\"word\":\"·\",\"deprel\":\"MT\"},{\"id\":30,\"postag\":\"m\",\"head\":31,\"word\":\"20\",\"deprel\":\"ATT\"},{\"id\":31,\"postag\":\"n\",\"head\":36,\"word\":\"暴雨\",\"deprel\":\"ATT\"},{\"id\":32,\"postag\":\"w\",\"head\":31,\"word\":\"”\",\"deprel\":\"MT\"},{\"id\":33,\"postag\":\"n\",\"head\":34,\"word\":\"洪涝\",\"deprel\":\"ATT\"},{\"id\":34,\"postag\":\"n\",\"head\":35,\"word\":\"灾害\",\"deprel\":\"ATT\"},{\"id\":35,\"postag\":\"n\",\"head\":36,\"word\":\"洪水\",\"deprel\":\"ATT\"},{\"id\":36,\"postag\":\"n\",\"head\":24,\"word\":\"范围\",\"deprel\":\"VOB\"},{\"id\":37,\"postag\":\"w\",\"head\":21,\"word\":\",\",\"deprel\":\"MT\"},{\"id\":38,\"postag\":\"v\",\"head\":19,\"word\":\"结合\",\"deprel\":\"IC\"},{\"id\":39,\"postag\":\"n\",\"head\":40,\"word\":\"洪水\",\"deprel\":\"ATT\"},{\"id\":40,\"postag\":\"f\",\"head\":45,\"word\":\"前\",\"deprel\":\"ATT\"},{\"id\":41,\"postag\":\"u\",\"head\":40,\"word\":\"的\",\"deprel\":\"MT\"},{\"id\":42,\"postag\":\"n\",\"head\":43,\"word\":\"土地\",\"deprel\":\"ATT\"},{\"id\":43,\"postag\":\"vn\",\"head\":45,\"word\":\"利用\",\"deprel\":\"ATT\"},{\"id\":44,\"postag\":\"vn\",\"head\":45,\"word\":\"分类\",\"deprel\":\"ATT\"},{\"id\":45,\"postag\":\"n\",\"head\":38,\"word\":\"数据\",\"deprel\":\"VOB\"},{\"id\":46,\"postag\":\"w\",\"head\":38,\"word\":\",\",\"deprel\":\"MT\"},{\"id\":47,\"postag\":\"v\",\"head\":38,\"word\":\"采用\",\"deprel\":\"VV\"},{\"id\":48,\"postag\":\"n\",\"head\":47,\"word\":\"系统\",\"deprel\":\"VOB\"},{\"id\":49,\"postag\":\"vd\",\"head\":50,\"word\":\"协同\",\"deprel\":\"ADV\"},{\"id\":50,\"postag\":\"v\",\"head\":51,\"word\":\"叠加\",\"deprel\":\"ATT\"},{\"id\":51,\"postag\":\"vn\",\"head\":52,\"word\":\"分析\",\"deprel\":\"ATT\"},{\"id\":52,\"postag\":\"n\",\"head\":47,\"word\":\"方法\",\"deprel\":\"VOB\"},{\"id\":53,\"postag\":\"w\",\"head\":47,\"word\":\",\",\"deprel\":\"MT\"},{\"id\":54,\"postag\":\"p\",\"head\":60,\"word\":\"对\",\"deprel\":\"ADV\"},{\"id\":55,\"postag\":\"LOC\",\"head\":56,\"word\":\"豫北\",\"deprel\":\"ATT\"},{\"id\":56,\"postag\":\"n\",\"head\":59,\"word\":\"地区\",\"deprel\":\"ATT\"},{\"id\":57,\"postag\":\"n\",\"head\":56,\"word\":\"暴雨\",\"deprel\":\"ATT\"},{\"id\":58,\"postag\":\"n\",\"head\":59,\"word\":\"洪涝\",\"deprel\":\"ATT\"},{\"id\":59,\"postag\":\"n\",\"head\":60,\"word\":\"灾害\",\"deprel\":\"SBV\"},{\"id\":60,\"postag\":\"v\",\"head\":38,\"word\":\"淹没\",\"deprel\":\"IC\"},{\"id\":61,\"postag\":\"n\",\"head\":60,\"word\":\"土地\",\"deprel\":\"VOB\"},{\"id\":62,\"postag\":\"v\",\"head\":60,\"word\":\"进行\",\"deprel\":\"COO\"},{\"id\":63,\"postag\":\"vn\",\"head\":65,\"word\":\"受灾\",\"deprel\":\"VOB\"},{\"id\":64,\"postag\":\"n\",\"head\":65,\"word\":\"状况\",\"deprel\":\"VOB\"},{\"id\":65,\"postag\":\"vn\",\"head\":38,\"word\":\"评估\",\"deprel\":\"VV\"},{\"id\":66,\"postag\":\"w\",\"head\":38,\"word\":\"。\",\"deprel\":\"MT\"}],\"text\":\"短时间内对暴雨洪涝灾害淹没土地的范围准确监测并进行受灾状况评估十分必要。利用SAR影像提取豫北地区“7·20暴雨”洪涝灾害洪水范围,结合洪水前的土地利用分类数据,采用系统协同叠加分析方法,对豫北地区暴雨洪涝灾害淹没土地进行受灾状况评估。\",\"log_id\":1607629410305408733}\n"
     ]
    }
   ],
   "source": [
    "import requests\n",
    "import json\n",
    "\n",
    "API_KEY = \"\"\n",
    "SECRET_KEY = \"\"\n",
    "\n",
    "def main():\n",
    "        \n",
    "    url = \"https://aip.baidubce.com/rpc/2.0/nlp/v2/depparser?charset=UTF-8&access_token=\" + get_access_token()\n",
    "    \n",
    "    payload = json.dumps({\n",
    "        \"text\": \"短时间内对暴雨洪涝灾害淹没土地的范围准确监测并进行受灾状况评估十分必要。利用SAR影像提取豫北地区“7·20暴雨”洪涝灾害洪水范围,结合洪水前的土地利用分类数据,采用系统协同叠加分析方法,对豫北地区暴雨洪涝灾害淹没土地进行受灾状况评估。\"\n",
    "    })\n",
    "    headers = {\n",
    "        'Content-Type': 'application/json',\n",
    "        'Accept': 'application/json'\n",
    "    }\n",
    "    \n",
    "    response = requests.request(\"POST\", url, headers=headers, data=payload)\n",
    "    \n",
    "    print(response.text)\n",
    "    return response.text\n",
    "    \n",
    "\n",
    "def get_access_token():\n",
    "    \"\"\"\n",
    "    使用 AK，SK 生成鉴权签名（Access Token）\n",
    "    :return: access_token，或是None(如果错误)\n",
    "    \"\"\"\n",
    "    url = \"https://aip.baidubce.com/oauth/2.0/token\"\n",
    "    params = {\"grant_type\": \"client_credentials\", \"client_id\": API_KEY, \"client_secret\": SECRET_KEY}\n",
    "    return str(requests.post(url, params=params).json().get(\"access_token\"))\n",
    "\n",
    "# if __name__ == '__main__':\n",
    "#     main()\n",
    "\n",
    "response=main()"
   ]
  },
  {
   "cell_type": "code",
   "execution_count": 2,
   "metadata": {},
   "outputs": [
    {
     "data": {
      "text/plain": [
       "[{'id': 1, 'postag': 'n', 'head': 12, 'word': '短时间', 'deprel': 'ADV'},\n",
       " {'id': 2, 'postag': 'f', 'head': 1, 'word': '内', 'deprel': 'F'},\n",
       " {'id': 3, 'postag': 'p', 'head': 12, 'word': '对', 'deprel': 'ADV'},\n",
       " {'id': 4, 'postag': 'n', 'head': 6, 'word': '暴雨', 'deprel': 'ATT'},\n",
       " {'id': 5, 'postag': 'n', 'head': 4, 'word': '洪涝', 'deprel': 'COO'},\n",
       " {'id': 6, 'postag': 'n', 'head': 3, 'word': '灾害', 'deprel': 'POB'},\n",
       " {'id': 7, 'postag': 'v', 'head': 10, 'word': '淹没', 'deprel': 'ATT'},\n",
       " {'id': 8, 'postag': 'n', 'head': 7, 'word': '土地', 'deprel': 'VOB'},\n",
       " {'id': 9, 'postag': 'u', 'head': 8, 'word': '的', 'deprel': 'MT'},\n",
       " {'id': 10, 'postag': 'n', 'head': 3, 'word': '范围', 'deprel': 'POB'},\n",
       " {'id': 11, 'postag': 'ad', 'head': 12, 'word': '准确', 'deprel': 'ADV'},\n",
       " {'id': 12, 'postag': 'v', 'head': 19, 'word': '监测', 'deprel': 'SBV'},\n",
       " {'id': 13, 'postag': 'c', 'head': 14, 'word': '并', 'deprel': 'MT'},\n",
       " {'id': 14, 'postag': 'v', 'head': 12, 'word': '进行', 'deprel': 'COO'},\n",
       " {'id': 15, 'postag': 'vn', 'head': 16, 'word': '受灾', 'deprel': 'ATT'},\n",
       " {'id': 16, 'postag': 'n', 'head': 17, 'word': '状况', 'deprel': 'ATT'},\n",
       " {'id': 17, 'postag': 'vn', 'head': 14, 'word': '评估', 'deprel': 'VOB'},\n",
       " {'id': 18, 'postag': 'd', 'head': 19, 'word': '十分', 'deprel': 'ADV'},\n",
       " {'id': 19, 'postag': 'a', 'head': 0, 'word': '必要', 'deprel': 'HED'},\n",
       " {'id': 20, 'postag': 'w', 'head': 19, 'word': '。', 'deprel': 'MT'},\n",
       " {'id': 21, 'postag': 'v', 'head': 19, 'word': '利用', 'deprel': 'IC'},\n",
       " {'id': 22, 'postag': 'nz', 'head': 23, 'word': 'SAR', 'deprel': 'ATT'},\n",
       " {'id': 23, 'postag': 'n', 'head': 21, 'word': '影像', 'deprel': 'VOB'},\n",
       " {'id': 24, 'postag': 'v', 'head': 21, 'word': '提取', 'deprel': 'VV'},\n",
       " {'id': 25, 'postag': 'LOC', 'head': 26, 'word': '豫北', 'deprel': 'ATT'},\n",
       " {'id': 26, 'postag': 'n', 'head': 31, 'word': '地区', 'deprel': 'ATT'},\n",
       " {'id': 27, 'postag': 'w', 'head': 31, 'word': '“', 'deprel': 'MT'},\n",
       " {'id': 28, 'postag': 'm', 'head': 31, 'word': '7', 'deprel': 'ATT'},\n",
       " {'id': 29, 'postag': 'w', 'head': 28, 'word': '·', 'deprel': 'MT'},\n",
       " {'id': 30, 'postag': 'm', 'head': 31, 'word': '20', 'deprel': 'ATT'},\n",
       " {'id': 31, 'postag': 'n', 'head': 36, 'word': '暴雨', 'deprel': 'ATT'},\n",
       " {'id': 32, 'postag': 'w', 'head': 31, 'word': '”', 'deprel': 'MT'},\n",
       " {'id': 33, 'postag': 'n', 'head': 34, 'word': '洪涝', 'deprel': 'ATT'},\n",
       " {'id': 34, 'postag': 'n', 'head': 35, 'word': '灾害', 'deprel': 'ATT'},\n",
       " {'id': 35, 'postag': 'n', 'head': 36, 'word': '洪水', 'deprel': 'ATT'},\n",
       " {'id': 36, 'postag': 'n', 'head': 24, 'word': '范围', 'deprel': 'VOB'},\n",
       " {'id': 37, 'postag': 'w', 'head': 21, 'word': ',', 'deprel': 'MT'},\n",
       " {'id': 38, 'postag': 'v', 'head': 19, 'word': '结合', 'deprel': 'IC'},\n",
       " {'id': 39, 'postag': 'n', 'head': 40, 'word': '洪水', 'deprel': 'ATT'},\n",
       " {'id': 40, 'postag': 'f', 'head': 45, 'word': '前', 'deprel': 'ATT'},\n",
       " {'id': 41, 'postag': 'u', 'head': 40, 'word': '的', 'deprel': 'MT'},\n",
       " {'id': 42, 'postag': 'n', 'head': 43, 'word': '土地', 'deprel': 'ATT'},\n",
       " {'id': 43, 'postag': 'vn', 'head': 45, 'word': '利用', 'deprel': 'ATT'},\n",
       " {'id': 44, 'postag': 'vn', 'head': 45, 'word': '分类', 'deprel': 'ATT'},\n",
       " {'id': 45, 'postag': 'n', 'head': 38, 'word': '数据', 'deprel': 'VOB'},\n",
       " {'id': 46, 'postag': 'w', 'head': 38, 'word': ',', 'deprel': 'MT'},\n",
       " {'id': 47, 'postag': 'v', 'head': 38, 'word': '采用', 'deprel': 'VV'},\n",
       " {'id': 48, 'postag': 'n', 'head': 47, 'word': '系统', 'deprel': 'VOB'},\n",
       " {'id': 49, 'postag': 'vd', 'head': 50, 'word': '协同', 'deprel': 'ADV'},\n",
       " {'id': 50, 'postag': 'v', 'head': 51, 'word': '叠加', 'deprel': 'ATT'},\n",
       " {'id': 51, 'postag': 'vn', 'head': 52, 'word': '分析', 'deprel': 'ATT'},\n",
       " {'id': 52, 'postag': 'n', 'head': 47, 'word': '方法', 'deprel': 'VOB'},\n",
       " {'id': 53, 'postag': 'w', 'head': 47, 'word': ',', 'deprel': 'MT'},\n",
       " {'id': 54, 'postag': 'p', 'head': 60, 'word': '对', 'deprel': 'ADV'},\n",
       " {'id': 55, 'postag': 'LOC', 'head': 56, 'word': '豫北', 'deprel': 'ATT'},\n",
       " {'id': 56, 'postag': 'n', 'head': 59, 'word': '地区', 'deprel': 'ATT'},\n",
       " {'id': 57, 'postag': 'n', 'head': 56, 'word': '暴雨', 'deprel': 'ATT'},\n",
       " {'id': 58, 'postag': 'n', 'head': 59, 'word': '洪涝', 'deprel': 'ATT'},\n",
       " {'id': 59, 'postag': 'n', 'head': 60, 'word': '灾害', 'deprel': 'SBV'},\n",
       " {'id': 60, 'postag': 'v', 'head': 38, 'word': '淹没', 'deprel': 'IC'},\n",
       " {'id': 61, 'postag': 'n', 'head': 60, 'word': '土地', 'deprel': 'VOB'},\n",
       " {'id': 62, 'postag': 'v', 'head': 60, 'word': '进行', 'deprel': 'COO'},\n",
       " {'id': 63, 'postag': 'vn', 'head': 65, 'word': '受灾', 'deprel': 'VOB'},\n",
       " {'id': 64, 'postag': 'n', 'head': 65, 'word': '状况', 'deprel': 'VOB'},\n",
       " {'id': 65, 'postag': 'vn', 'head': 38, 'word': '评估', 'deprel': 'VV'},\n",
       " {'id': 66, 'postag': 'w', 'head': 38, 'word': '。', 'deprel': 'MT'}]"
      ]
     },
     "execution_count": 2,
     "metadata": {},
     "output_type": "execute_result"
    }
   ],
   "source": [
    "import ast\n",
    "dep_dict=ast.literal_eval(response)\n",
    "dep_dict[\"items\"]"
   ]
  },
  {
   "cell_type": "markdown",
   "metadata": {},
   "source": [
    "# 读取摘要文件"
   ]
  },
  {
   "cell_type": "code",
   "execution_count": 3,
   "metadata": {},
   "outputs": [
    {
     "data": {
      "text/html": [
       "<div>\n",
       "<style scoped>\n",
       "    .dataframe tbody tr th:only-of-type {\n",
       "        vertical-align: middle;\n",
       "    }\n",
       "\n",
       "    .dataframe tbody tr th {\n",
       "        vertical-align: top;\n",
       "    }\n",
       "\n",
       "    .dataframe thead th {\n",
       "        text-align: right;\n",
       "    }\n",
       "</style>\n",
       "<table border=\"1\" class=\"dataframe\">\n",
       "  <thead>\n",
       "    <tr style=\"text-align: right;\">\n",
       "      <th></th>\n",
       "      <th>作者</th>\n",
       "      <th>期刊</th>\n",
       "      <th>日期</th>\n",
       "      <th>标题</th>\n",
       "      <th>摘要</th>\n",
       "    </tr>\n",
       "  </thead>\n",
       "  <tbody>\n",
       "    <tr>\n",
       "      <th>0</th>\n",
       "      <td>李瑞清</td>\n",
       "      <td>中国水利</td>\n",
       "      <td>2022-08-30 00:00:00</td>\n",
       "      <td>历史时期江汉平原洪涝灾害及其启示</td>\n",
       "      <td>江汉平原生态环境和发展历来备受重视，其经济发展也长期受到洪涝灾害的制约。介绍了不同历史时期江...</td>\n",
       "    </tr>\n",
       "    <tr>\n",
       "      <th>1</th>\n",
       "      <td>姜月华;陈立德;向芳;朱锦旗;郭盛乔</td>\n",
       "      <td>中国地质</td>\n",
       "      <td>2022-08-23 09:02:00</td>\n",
       "      <td>长江演化及其对洪涝灾害防治的启示</td>\n",
       "      <td>【研究目的】长江的形成和演化以及长江中下游地区周而复始的洪涝灾害，是亟待学术界破解的关键科学...</td>\n",
       "    </tr>\n",
       "    <tr>\n",
       "      <th>2</th>\n",
       "      <td>谢婧姿;李宜锋;袁敏;何婷婷;李宗光</td>\n",
       "      <td>热带病与寄生虫学</td>\n",
       "      <td>2022-08-20 00:00:00</td>\n",
       "      <td>2020年洪涝灾害后江西省钉螺扩散情况调查</td>\n",
       "      <td>目的调查分析2020年洪涝灾害对江西省钉螺扩散的影响，为洪涝灾害发生地区钉螺监测和钉螺控制提...</td>\n",
       "    </tr>\n",
       "  </tbody>\n",
       "</table>\n",
       "</div>"
      ],
      "text/plain": [
       "                   作者        期刊                  日期                     标题  \\\n",
       "0                 李瑞清      中国水利 2022-08-30 00:00:00       历史时期江汉平原洪涝灾害及其启示   \n",
       "1  姜月华;陈立德;向芳;朱锦旗;郭盛乔      中国地质 2022-08-23 09:02:00       长江演化及其对洪涝灾害防治的启示   \n",
       "2  谢婧姿;李宜锋;袁敏;何婷婷;李宗光  热带病与寄生虫学 2022-08-20 00:00:00  2020年洪涝灾害后江西省钉螺扩散情况调查   \n",
       "\n",
       "                                                  摘要  \n",
       "0  江汉平原生态环境和发展历来备受重视，其经济发展也长期受到洪涝灾害的制约。介绍了不同历史时期江...  \n",
       "1  【研究目的】长江的形成和演化以及长江中下游地区周而复始的洪涝灾害，是亟待学术界破解的关键科学...  \n",
       "2  目的调查分析2020年洪涝灾害对江西省钉螺扩散的影响，为洪涝灾害发生地区钉螺监测和钉螺控制提...  "
      ]
     },
     "execution_count": 3,
     "metadata": {},
     "output_type": "execute_result"
    }
   ],
   "source": [
    "import pandas as pd\n",
    "df_abstract=pd.read_excel(\"./Abstract/Abstracts.xlsx\",sheet_name=\"洪涝灾害\")\n",
    "df_abstract.head(3)"
   ]
  },
  {
   "cell_type": "code",
   "execution_count": 4,
   "metadata": {},
   "outputs": [],
   "source": [
    "abs_list=df_abstract[\"摘要\"].tolist()"
   ]
  },
  {
   "cell_type": "markdown",
   "metadata": {},
   "source": [
    "# 正则关键词匹配\n"
   ]
  },
  {
   "cell_type": "code",
   "execution_count": 73,
   "metadata": {},
   "outputs": [],
   "source": [
    "import re\n",
    "# 切分句子的函数\n",
    "def cut_sentence(para):\n",
    "    # 相关规则\n",
    "    pattern = ['([,，.;。！？\\?])([^”’])','(\\.{6})([^”’])','(\\…{2})([^”’])','([。！？\\?][”’])([^，。！？\\?])']\n",
    "    for i in pattern:\n",
    "        para = re.sub(i, r\"\\1\\n\\2\", para)\n",
    "    para = para.rstrip()\n",
    "    return para.split(\"\\n\")\n",
    "\n",
    "\n",
    "pre_words_list=[\"采用\",\"通过\",\"运用\",\"利用\",\"依托\",\"基于\",\"应用\",\"建立\",\"构建\",\"提出\"]\n",
    "post_words_list=[\"算法\",\"方法\",\"法\",\"功能\",\"模型\",\"体系\",\"工具\",\"技术\"]\n",
    "mid_words_list=[\"、\",\"和\",\"与\",\"以及\",\"及\",\"及其\"]\n",
    "\n",
    "pat_list=[]\n",
    "for i in range(len(pre_words_list)):\n",
    "    for j in range(len(post_words_list)):\n",
    "        pat_list.append(pre_words_list[i]+\"(.+?\"+post_words_list[j]+\")\")\n",
    "_pat=\"|\".join(pat_list)\n",
    "pat=re.compile(_pat)\n",
    "\n",
    "\n",
    "res_list=[]\n",
    "for i in range(len(abs_list)):\\\n",
    "    # 切分句子\n",
    "    sen_list=cut_sentence(abs_list[i])\n",
    "    for j in range(len(sen_list)):\n",
    "        res=pat.findall(sen_list[j])\n",
    "        if res:\n",
    "            res_list=res_list+res"
   ]
  },
  {
   "cell_type": "code",
   "execution_count": null,
   "metadata": {},
   "outputs": [],
   "source": [
    "m_list=[]\n",
    "for k in range(len(res_list)):\n",
    "    for item in res_list[k]:\n",
    "        if item!=\"\":\n",
    "            m_list.append(item)\n",
    "m_list\n"
   ]
  },
  {
   "cell_type": "code",
   "execution_count": 80,
   "metadata": {},
   "outputs": [
    {
     "data": {
      "text/plain": [
       "tuple"
      ]
     },
     "execution_count": 80,
     "metadata": {},
     "output_type": "execute_result"
    }
   ],
   "source": [
    "# 测试代码\n",
    "str=\"利用大连市日降水数据和社会经济数据，采用层次分析法（AHP）和熵权法，结合GIS技术，从暴雨洪涝灾害的危险性、暴露性、脆弱性和防灾减灾能力4个因子入手，选取18个暴雨洪涝灾害综合风险评价指标建立大连市暴雨洪涝灾害综合风险评估模型，对大连市暴雨洪涝灾害的综合风险进行评估。结果表明：从暴雨洪涝灾害危险性空间分布来看，大连市具有东北部、西南部地区较高，中部地区较低的特点；北部地区暴雨洪涝灾害暴露性和防灾减灾能力均较低，而南部区域较高；西南部、中部地区暴雨洪涝灾害脆弱性较高，东北部、南部地区脆弱性较低。大连市暴雨洪涝灾害综合风险等级以中风险为主，占全市总面积的41.3%,从大连市的东北到西南方向呈片状分布；其次是低风险区，占全市总面积的20.93%,主要分布在庄河市的西北部和瓦房店市；高风险区域面积小，仅占全市总面积的0.72%,集中分布在沙河口区和长海县。沙河口区和长海县作为大连市暴雨洪涝灾害的高风险区，在极端暴雨条件下极有可能发生洪涝灾害，已成为防洪工作的重点关注地区。\"\n",
    "pat=re.compile(\"结合(.+?技术)|采用(.+?方法) \")\n",
    "res=pat.findall(str)\n",
    "type(res[0])"
   ]
  },
  {
   "cell_type": "markdown",
   "metadata": {},
   "source": [
    "# 基于依存句法分析的提取"
   ]
  },
  {
   "cell_type": "markdown",
   "metadata": {},
   "source": [
    "## HanLP句法依存分析"
   ]
  },
  {
   "cell_type": "markdown",
   "metadata": {},
   "source": [
    "1.hanlp_restful API"
   ]
  },
  {
   "cell_type": "code",
   "execution_count": 13,
   "metadata": {},
   "outputs": [
    {
     "name": "stdout",
     "output_type": "stream",
     "text": [
      "[[[0, 'root'], [9, 'nmod:assmod'], [5, 'amod'], [9, 'compound:nn'], [9, 'conj'], [9, 'cc'], [9, 'compound:nn'], [9, 'compound:nn'], [1, 'dobj'], [1, 'punct'], [1, 'conj'], [15, 'nmod:assmod'], [15, 'compound:nn'], [15, 'compound:nn'], [19, 'compound:nn'], [19, 'amod'], [19, 'compound:nn'], [19, 'compound:nn'], [11, 'dobj'], [1, 'punct'], [28, 'case'], [25, 'nmod:assmod'], [25, 'compound:nn'], [25, 'compound:nn'], [28, 'nmod:assmod'], [25, 'case'], [28, 'amod'], [29, 'nmod:prep'], [1, 'conj'], [29, 'dobj'], [1, 'punct']], [[2, 'nsubj'], [0, 'root'], [2, 'punct'], [5, 'nsubj'], [2, 'ccomp'], [8, 'conj'], [8, 'punct'], [9, 'compound:nn'], [11, 'nsubj'], [11, 'advmod'], [17, 'amod'], [13, 'compound:nn'], [15, 'nsubj'], [15, 'advmod'], [11, 'conj'], [11, 'mark'], [5, 'dobj'], [5, 'punct'], [20, 'advmod'], [5, 'conj'], [22, 'compound:nn'], [26, 'nmod:assmod'], [22, 'case'], [25, 'advmod'], [26, 'acl'], [20, 'dobj'], [2, 'punct']], [[0, 'root']]]\n"
     ]
    }
   ],
   "source": [
    "import requests\n",
    "import json\n",
    "\n",
    "# 封装一个GET请求\n",
    "def GET(url):\n",
    "    #get请求\n",
    "    req = requests.get(url)\n",
    "    #输出状态码\n",
    "    print(req.status_code)\n",
    "    #输出返回内容\n",
    "    print(req.text)\n",
    "    \n",
    "# 封装一个POST请求\n",
    "def POST(url,data,token,cookie=\"\"):\n",
    "    #post参数\n",
    "    post_data={\n",
    "        \"text\":data\n",
    "    }\n",
    "    #post 请求头\n",
    "    headers = {\n",
    "        \"User-Agent\": \"Mozilla/5.0 (Linux; Android 6.0; Nexus 5 Build/MRA58N) AppleWebKit/537.36 (KHTML, like Gecko) Chrome/75.0.3770.142 Mobile Safari/537.36\",\n",
    "        \"Cookie\": cookie,\"token\":token}\n",
    "    \n",
    "    req = requests.post(url,params=post_data,headers=headers)\n",
    "    \n",
    "    # #注意：如果post_data是字典json形式的，如下，参数一般用json=\n",
    "    # post_data = {\"a\":1,\"b\":2}\n",
    "    # req = requests.post(url,json=post_data,headers=headers)\n",
    "    \n",
    "    #如果req返回的json数据，则可以用json的一个函数转换\n",
    "    data = json.loads(req.text)\n",
    "    \n",
    "    # print(req.status_code)\n",
    "    # print(req.text)\n",
    "    return data\n",
    "\n",
    "# 执行POST请求\n",
    "url=\"http://comdo.hanlp.com/hanlp/v21/dep/dep\"\n",
    "token=''\n",
    "sentence=\"利用大连市日降水数据和社会经济数据，建立大连市暴雨洪涝灾害综合风险评估模型，对大连市暴雨洪涝灾害的综合风险进行评估。结果表明：大连市具有东北部、西南部地区较高，中部地区较低的特点；已成为防洪工作的重点关注地区。.\"\n",
    "ner_res = POST(url,sentence,token)\n",
    "print(ner_res[\"data\"]['dep'])"
   ]
  },
  {
   "cell_type": "markdown",
   "metadata": {},
   "source": [
    "2.hanlp 本地 API"
   ]
  },
  {
   "cell_type": "code",
   "execution_count": 1,
   "metadata": {},
   "outputs": [
    {
     "data": {
      "text/plain": [
       "{'OPEN_TOK_POS_NER_SRL_DEP_SDP_CON_ELECTRA_SMALL_ZH': 'https://file.hankcs.com/hanlp/mtl/open_tok_pos_ner_srl_dep_sdp_con_electra_small_20201223_035557.zip',\n",
       " 'OPEN_TOK_POS_NER_SRL_DEP_SDP_CON_ELECTRA_BASE_ZH': 'https://file.hankcs.com/hanlp/mtl/open_tok_pos_ner_srl_dep_sdp_con_electra_base_20201223_201906.zip',\n",
       " 'CLOSE_TOK_POS_NER_SRL_DEP_SDP_CON_ELECTRA_SMALL_ZH': 'https://file.hankcs.com/hanlp/mtl/close_tok_pos_ner_srl_dep_sdp_con_electra_small_20210111_124159.zip',\n",
       " 'CLOSE_TOK_POS_NER_SRL_UDEP_SDP_CON_ELECTRA_SMALL_ZH': 'https://file.hankcs.com/hanlp/mtl/close_tok_pos_ner_srl_dep_sdp_con_electra_small_20220626_175100.zip',\n",
       " 'CLOSE_TOK_POS_NER_SRL_DEP_SDP_CON_ELECTRA_BASE_ZH': 'https://file.hankcs.com/hanlp/mtl/close_tok_pos_ner_srl_dep_sdp_con_electra_base_20210111_124519.zip',\n",
       " 'CLOSE_TOK_POS_NER_SRL_DEP_SDP_CON_ERNIE_GRAM_ZH': 'https://file.hankcs.com/hanlp/mtl/close_tok_pos_ner_srl_dep_sdp_con_ernie_gram_base_aug_20210904_145403.zip',\n",
       " 'UD_ONTONOTES_TOK_POS_LEM_FEA_NER_SRL_DEP_SDP_CON_MMINILMV2L6': 'https://file.hankcs.com/hanlp/mtl/ud_ontonotes_tok_pos_lem_fea_ner_srl_dep_sdp_con_mMiniLMv2L6_no_space_20220731_161526.zip',\n",
       " 'UD_ONTONOTES_TOK_POS_LEM_FEA_NER_SRL_DEP_SDP_CON_MMINILMV2L12': 'https://file.hankcs.com/hanlp/mtl/ud_ontonotes_tok_pos_lem_fea_ner_srl_dep_sdp_con_mMiniLMv2L12_no_space_20220807_133143.zip',\n",
       " 'UD_ONTONOTES_TOK_POS_LEM_FEA_NER_SRL_DEP_SDP_CON_XLMR_BASE': 'https://file.hankcs.com/hanlp/mtl/ud_ontonotes_tok_pos_lem_fea_ner_srl_dep_sdp_con_xlm_base_20220608_003435.zip',\n",
       " 'NPCMJ_UD_KYOTO_TOK_POS_CON_BERT_BASE_CHAR_JA': 'https://file.hankcs.com/hanlp/mtl/npcmj_ud_kyoto_tok_pos_ner_dep_con_srl_bert_base_char_ja_20210914_133742.zip'}"
      ]
     },
     "execution_count": 1,
     "metadata": {},
     "output_type": "execute_result"
    }
   ],
   "source": [
    "import hanlp\n",
    "hanlp.pretrained.mtl.ALL # MTL多任务，具体任务见模型名称，语种见名称最后一个字段或相应语料库"
   ]
  },
  {
   "cell_type": "code",
   "execution_count": 2,
   "metadata": {},
   "outputs": [
    {
     "name": "stderr",
     "output_type": "stream",
     "text": [
      "Downloading https://file.hankcs.com/hanlp/mtl/close_tok_pos_ner_srl_dep_sdp_con_electra_base_20210111_124519.zip to C:\\Users\\wuda\\AppData\\Roaming\\hanlp\\mtl/close_tok_pos_ner_srl_dep_sdp_con_electra_base_20210111_124519.zip\n",
      "100% 467.9 MiB 132.3 KiB/s ETA:  0 s [=========================================]\n",
      "100% 467.9 MiB 132.3 KiB/s ETA:  0 s [=========================================]\n",
      "Decompressing C:\\Users\\wuda\\AppData\\Roaming\\hanlp\\mtl/close_tok_pos_ner_srl_dep_sdp_con_electra_base_20210111_124519.zip to C:\\Users\\wuda\\AppData\\Roaming\\hanlp\\mtl\n",
      "Downloading https://file.hankcs.com/hanlp/transformers/electra_zh_base_20210706_125233.zip to C:\\Users\\wuda\\AppData\\Roaming\\hanlp\\transformers/electra_zh_base_20210706_125233.zip\n",
      "100%  41.2 KiB  41.2 KiB/s ETA:  0 s [=========================================]\n",
      "Decompressing C:\\Users\\wuda\\AppData\\Roaming\\hanlp\\transformers/electra_zh_base_20210706_125233.zip to C:\\Users\\wuda\\AppData\\Roaming\\hanlp\\transformers\n",
      "Downloading https://file.hankcs.com/corpus/char_table.json.zip to C:\\Users\\wuda\\AppData\\Roaming\\hanlp\\thirdparty\\file.hankcs.com\\corpus/char_table.json.zip\n",
      "100%  19.4 KiB  19.4 KiB/s ETA:  0 s [=========================================]\n",
      "Decompressing C:\\Users\\wuda\\AppData\\Roaming\\hanlp\\thirdparty\\file.hankcs.com\\corpus/char_table.json.zip to C:\\Users\\wuda\\AppData\\Roaming\\hanlp\\thirdparty\\file.hankcs.com\\corpus\n",
      "                                             \r"
     ]
    }
   ],
   "source": [
    "HanLP = hanlp.load(hanlp.pretrained.mtl.CLOSE_TOK_POS_NER_SRL_DEP_SDP_CON_ELECTRA_BASE_ZH)"
   ]
  },
  {
   "cell_type": "code",
   "execution_count": 3,
   "metadata": {},
   "outputs": [],
   "source": [
    "doc = HanLP(['利用大连市日降水数据和社会经济数据，建立大连市暴雨洪涝灾害综合风险评估模型，对大连市暴雨洪涝灾害的综合风险进行评估。结果表明：大连市具有东北部、西南部地区较高，中部地区较低的特点；已成为防洪工作的重点关注地区。'], tasks='dep')"
   ]
  },
  {
   "cell_type": "code",
   "execution_count": 5,
   "metadata": {},
   "outputs": [
    {
     "name": "stdout",
     "output_type": "stream",
     "text": [
      "{\n",
      "  \"tok/fine\": [\n",
      "    [\"利用\", \"大连市\", \"日\", \"降水\", \"数据\", \"和\", \"社会\", \"经济\", \"数据\", \"，\", \"建立\", \"大连市\", \"暴雨\", \"洪涝\", \"灾害\", \"综合\", \"风险\", \"评估\", \"模型\", \"，\", \"对\", \"大连市\", \"暴雨\", \"洪涝\", \"灾害\", \"的\", \"综合\", \"风险\", \"进行\", \"评估\", \"。\", \"结果\", \"表明\", \"：\", \"大连市\", \"具有\", \"东北部\", \"、\", \"西南部\", \"地区\", \"较\", \"高\", \"，\", \"中部\", \"地区\", \"较\", \"低\", \"的\", \"特点\", \"；\", \"已\", \"成为\", \"防洪\", \"工作\", \"的\", \"重点\", \"关注\", \"地区\", \"。\"]\n",
      "  ],\n",
      "  \"dep\": [\n",
      "    [[0, \"root\"], [9, \"nn\"], [9, \"nn\"], [9, \"nn\"], [9, \"conj\"], [9, \"cc\"], [9, \"nn\"], [9, \"nn\"], [1, \"dobj\"], [1, \"punct\"], [1, \"conj\"], [19, \"nn\"], [15, \"nn\"], [15, \"nn\"], [19, \"nn\"], [17, \"amod\"], [19, \"nn\"], [19, \"nn\"], [11, \"dobj\"], [1, \"punct\"], [29, \"prep\"], [28, \"nn\"], [25, \"nn\"], [25, \"nn\"], [28, \"assmod\"], [25, \"assm\"], [28, \"amod\"], [21, \"pobj\"], [1, \"conj\"], [29, \"dobj\"], [1, \"punct\"], [33, \"nsubj\"], [1, \"conj\"], [33, \"punct\"], [36, \"nsubj\"], [33, \"ccomp\"], [39, \"conj\"], [39, \"punct\"], [40, \"nn\"], [42, \"nsubj\"], [42, \"advmod\"], [49, \"rcmod\"], [42, \"punct\"], [45, \"nn\"], [47, \"nsubj\"], [47, \"advmod\"], [42, \"conj\"], [42, \"cpm\"], [36, \"dobj\"], [1, \"punct\"], [52, \"advmod\"], [1, \"conj\"], [54, \"nn\"], [58, \"assmod\"], [54, \"assm\"], [57, \"advmod\"], [58, \"rcmod\"], [52, \"dobj\"], [1, \"punct\"]]\n",
      "  ]\n",
      "}\n",
      "利用\n",
      "59\n",
      "59\n"
     ]
    }
   ],
   "source": [
    "print(doc)\n",
    "print(doc[\"tok/fine\"][0][0])\n",
    "print(len(doc[\"tok/fine\"][0]))\n",
    "print(len(doc[\"dep\"][0]))"
   ]
  },
  {
   "cell_type": "code",
   "execution_count": 7,
   "metadata": {},
   "outputs": [
    {
     "name": "stdout",
     "output_type": "stream",
     "text": [
      "[['大连市', '数据'], ['大连市', '模型'], ['大连市', '风险'], ['评估', '评估'], ['东北部', '特点'], ['防洪', '地区']]\n"
     ]
    }
   ],
   "source": [
    "word_array=doc[\"tok/fine\"][0]\n",
    "doc_dep=doc[\"dep\"][0]\n",
    "\n",
    "\n",
    "c_o_array=[]\n",
    "\n",
    "for i in range(len(doc_dep)):\n",
    "    if \"obj\" in doc_dep[i][1]:\n",
    "        c_o=[]\n",
    "        c_o.append(word_array[doc_dep[i][0]])\n",
    "        c_o.append(word_array[i])\n",
    "        c_o_array.append(c_o)\n",
    "\n",
    "    \n",
    "print(c_o_array)"
   ]
  },
  {
   "cell_type": "code",
   "execution_count": 6,
   "metadata": {},
   "outputs": [
    {
     "data": {
      "text/html": [
       "<div style=\"display: table; padding-bottom: 1rem;\"><pre style=\"display: table-cell; font-family: SFMono-Regular,Menlo,Monaco,Consolas,Liberation Mono,Courier New,monospace; white-space: nowrap; line-height: 128%; padding: 0;\">Dep&nbsp;Tree&nbsp;&nbsp;&nbsp;&nbsp;&nbsp;&nbsp;&nbsp;&nbsp;&nbsp;&nbsp;&nbsp;&nbsp;&nbsp;&nbsp;&nbsp;&nbsp;&nbsp;&nbsp;<br>─────────────────────────&nbsp;<br>┌┬┬┬───┬┬─┬┬┬┬───────────&nbsp;<br>││││&nbsp;&nbsp;&nbsp;││&nbsp;││││&nbsp;&nbsp;┌───────►&nbsp;<br>││││&nbsp;&nbsp;&nbsp;││&nbsp;││││&nbsp;&nbsp;│┌──────►&nbsp;<br>││││&nbsp;&nbsp;&nbsp;││&nbsp;││││&nbsp;&nbsp;││┌─────►&nbsp;<br>││││&nbsp;&nbsp;&nbsp;││&nbsp;││││&nbsp;&nbsp;│││┌────►&nbsp;<br>││││&nbsp;&nbsp;&nbsp;││&nbsp;││││&nbsp;&nbsp;││││┌───►&nbsp;<br>││││&nbsp;&nbsp;&nbsp;││&nbsp;││││&nbsp;&nbsp;│││││┌──►&nbsp;<br>││││&nbsp;&nbsp;&nbsp;││&nbsp;││││&nbsp;&nbsp;││││││┌─►&nbsp;<br>││││&nbsp;&nbsp;&nbsp;││&nbsp;│││└─►└┴┴┴┴┴┴──&nbsp;<br>││││&nbsp;&nbsp;&nbsp;││&nbsp;││└───────────►&nbsp;<br>││││&nbsp;&nbsp;&nbsp;││&nbsp;│└─►┌──────────&nbsp;<br>││││&nbsp;&nbsp;&nbsp;││&nbsp;│&nbsp;&nbsp;&nbsp;│&nbsp;&nbsp;┌──────►&nbsp;<br>││││&nbsp;&nbsp;&nbsp;││&nbsp;│&nbsp;&nbsp;&nbsp;│&nbsp;&nbsp;│&nbsp;&nbsp;&nbsp;┌──►&nbsp;<br>││││&nbsp;&nbsp;&nbsp;││&nbsp;│&nbsp;&nbsp;&nbsp;│&nbsp;&nbsp;│&nbsp;&nbsp;&nbsp;│┌─►&nbsp;<br>││││&nbsp;&nbsp;&nbsp;││&nbsp;│&nbsp;&nbsp;&nbsp;│&nbsp;&nbsp;│┌─►└┴──&nbsp;<br>││││&nbsp;&nbsp;&nbsp;││&nbsp;│&nbsp;&nbsp;&nbsp;│&nbsp;&nbsp;││&nbsp;&nbsp;&nbsp;┌─►&nbsp;<br>││││&nbsp;&nbsp;&nbsp;││&nbsp;│&nbsp;&nbsp;&nbsp;│&nbsp;&nbsp;││┌─►└──&nbsp;<br>││││&nbsp;&nbsp;&nbsp;││&nbsp;│&nbsp;&nbsp;&nbsp;│&nbsp;&nbsp;│││&nbsp;&nbsp;┌─►&nbsp;<br>││││&nbsp;&nbsp;&nbsp;││&nbsp;│&nbsp;&nbsp;&nbsp;└─►└┴┴──┴──&nbsp;<br>││││&nbsp;&nbsp;&nbsp;││&nbsp;└─────────────►&nbsp;<br>││││&nbsp;&nbsp;&nbsp;││&nbsp;&nbsp;┌─►┌──────────&nbsp;<br>││││&nbsp;&nbsp;&nbsp;││&nbsp;&nbsp;│&nbsp;&nbsp;│&nbsp;&nbsp;┌──────►&nbsp;<br>││││&nbsp;&nbsp;&nbsp;││&nbsp;&nbsp;│&nbsp;&nbsp;│&nbsp;&nbsp;│&nbsp;&nbsp;&nbsp;┌──►&nbsp;<br>││││&nbsp;&nbsp;&nbsp;││&nbsp;&nbsp;│&nbsp;&nbsp;│&nbsp;&nbsp;│&nbsp;&nbsp;&nbsp;│┌─►&nbsp;<br>││││&nbsp;&nbsp;&nbsp;││&nbsp;&nbsp;│&nbsp;&nbsp;│&nbsp;&nbsp;│┌─►└┼──&nbsp;<br>││││&nbsp;&nbsp;&nbsp;││&nbsp;&nbsp;│&nbsp;&nbsp;│&nbsp;&nbsp;││&nbsp;&nbsp;&nbsp;└─►&nbsp;<br>││││&nbsp;&nbsp;&nbsp;││&nbsp;&nbsp;│&nbsp;&nbsp;│&nbsp;&nbsp;││&nbsp;&nbsp;&nbsp;┌─►&nbsp;<br>││││&nbsp;&nbsp;&nbsp;││&nbsp;&nbsp;│&nbsp;&nbsp;└─►└┴───┴──&nbsp;<br>││││&nbsp;&nbsp;&nbsp;│└─►└──────────┬──&nbsp;<br>││││&nbsp;&nbsp;&nbsp;│&nbsp;&nbsp;&nbsp;&nbsp;&nbsp;&nbsp;&nbsp;&nbsp;&nbsp;&nbsp;&nbsp;&nbsp;&nbsp;&nbsp;└─►&nbsp;<br>││││&nbsp;&nbsp;&nbsp;└────────────────►&nbsp;<br>││││&nbsp;&nbsp;&nbsp;&nbsp;&nbsp;&nbsp;&nbsp;&nbsp;&nbsp;&nbsp;&nbsp;&nbsp;&nbsp;&nbsp;&nbsp;&nbsp;&nbsp;&nbsp;┌─►&nbsp;<br>│││└─►┌───────────────┼──&nbsp;<br>│││&nbsp;&nbsp;&nbsp;│&nbsp;&nbsp;&nbsp;&nbsp;&nbsp;&nbsp;&nbsp;&nbsp;&nbsp;&nbsp;&nbsp;&nbsp;&nbsp;&nbsp;&nbsp;└─►&nbsp;<br>│││&nbsp;&nbsp;&nbsp;│&nbsp;&nbsp;&nbsp;&nbsp;&nbsp;&nbsp;&nbsp;&nbsp;&nbsp;&nbsp;&nbsp;&nbsp;&nbsp;&nbsp;&nbsp;┌─►&nbsp;<br>│││&nbsp;&nbsp;&nbsp;└─►┌────────────┴──&nbsp;<br>│││&nbsp;&nbsp;&nbsp;&nbsp;&nbsp;&nbsp;│&nbsp;&nbsp;&nbsp;&nbsp;&nbsp;&nbsp;&nbsp;&nbsp;&nbsp;&nbsp;&nbsp;┌──►&nbsp;<br>│││&nbsp;&nbsp;&nbsp;&nbsp;&nbsp;&nbsp;│&nbsp;&nbsp;&nbsp;&nbsp;&nbsp;&nbsp;&nbsp;&nbsp;&nbsp;&nbsp;&nbsp;│┌─►&nbsp;<br>│││&nbsp;&nbsp;&nbsp;&nbsp;&nbsp;&nbsp;│&nbsp;&nbsp;&nbsp;&nbsp;&nbsp;&nbsp;&nbsp;&nbsp;┌─►└┴──&nbsp;<br>│││&nbsp;&nbsp;&nbsp;&nbsp;&nbsp;&nbsp;│&nbsp;&nbsp;&nbsp;&nbsp;&nbsp;┌─►└──────&nbsp;<br>│││&nbsp;&nbsp;&nbsp;&nbsp;&nbsp;&nbsp;│&nbsp;&nbsp;&nbsp;&nbsp;&nbsp;│&nbsp;&nbsp;&nbsp;&nbsp;&nbsp;&nbsp;┌─►&nbsp;<br>│││&nbsp;&nbsp;&nbsp;&nbsp;&nbsp;&nbsp;│&nbsp;&nbsp;┌─►├┬─────┼──&nbsp;<br>│││&nbsp;&nbsp;&nbsp;&nbsp;&nbsp;&nbsp;│&nbsp;&nbsp;│&nbsp;&nbsp;││&nbsp;&nbsp;&nbsp;&nbsp;&nbsp;└─►&nbsp;<br>│││&nbsp;&nbsp;&nbsp;&nbsp;&nbsp;&nbsp;│&nbsp;&nbsp;│&nbsp;&nbsp;││&nbsp;&nbsp;&nbsp;&nbsp;&nbsp;┌─►&nbsp;<br>│││&nbsp;&nbsp;&nbsp;&nbsp;&nbsp;&nbsp;│&nbsp;&nbsp;│&nbsp;&nbsp;││&nbsp;&nbsp;┌─►└──&nbsp;<br>│││&nbsp;&nbsp;&nbsp;&nbsp;&nbsp;&nbsp;│&nbsp;&nbsp;│&nbsp;&nbsp;││&nbsp;&nbsp;│&nbsp;&nbsp;┌─►&nbsp;<br>│││&nbsp;&nbsp;&nbsp;&nbsp;&nbsp;&nbsp;│&nbsp;&nbsp;│&nbsp;&nbsp;│└─►└──┴──&nbsp;<br>│││&nbsp;&nbsp;&nbsp;&nbsp;&nbsp;&nbsp;│&nbsp;&nbsp;│&nbsp;&nbsp;└────────►&nbsp;<br>│││&nbsp;&nbsp;&nbsp;&nbsp;&nbsp;&nbsp;└─►└────────────&nbsp;<br>││└─────────────────────►&nbsp;<br>││&nbsp;&nbsp;&nbsp;&nbsp;&nbsp;&nbsp;&nbsp;&nbsp;&nbsp;&nbsp;&nbsp;&nbsp;&nbsp;&nbsp;&nbsp;&nbsp;&nbsp;&nbsp;&nbsp;&nbsp;┌─►&nbsp;<br>│└────────────►┌──────┴──&nbsp;<br>│&nbsp;&nbsp;&nbsp;&nbsp;&nbsp;&nbsp;&nbsp;&nbsp;&nbsp;&nbsp;&nbsp;&nbsp;&nbsp;&nbsp;│&nbsp;&nbsp;&nbsp;&nbsp;&nbsp;&nbsp;┌─►&nbsp;<br>│&nbsp;&nbsp;&nbsp;&nbsp;&nbsp;&nbsp;&nbsp;&nbsp;&nbsp;&nbsp;&nbsp;&nbsp;&nbsp;&nbsp;│&nbsp;&nbsp;┌──►├──&nbsp;<br>│&nbsp;&nbsp;&nbsp;&nbsp;&nbsp;&nbsp;&nbsp;&nbsp;&nbsp;&nbsp;&nbsp;&nbsp;&nbsp;&nbsp;│&nbsp;&nbsp;│&nbsp;&nbsp;&nbsp;└─►&nbsp;<br>│&nbsp;&nbsp;&nbsp;&nbsp;&nbsp;&nbsp;&nbsp;&nbsp;&nbsp;&nbsp;&nbsp;&nbsp;&nbsp;&nbsp;│&nbsp;&nbsp;│&nbsp;&nbsp;&nbsp;┌─►&nbsp;<br>│&nbsp;&nbsp;&nbsp;&nbsp;&nbsp;&nbsp;&nbsp;&nbsp;&nbsp;&nbsp;&nbsp;&nbsp;&nbsp;&nbsp;│&nbsp;&nbsp;│┌─►└──&nbsp;<br>│&nbsp;&nbsp;&nbsp;&nbsp;&nbsp;&nbsp;&nbsp;&nbsp;&nbsp;&nbsp;&nbsp;&nbsp;&nbsp;&nbsp;└─►└┴─────&nbsp;<br>└───────────────────────►&nbsp;</pre><pre style=\"display: table-cell; font-family: SFMono-Regular,Menlo,Monaco,Consolas,Liberation Mono,Courier New,monospace; white-space: nowrap; line-height: 128%; padding: 0;\">Tok&nbsp;<br>───&nbsp;<br>利用&nbsp;&nbsp;<br>大连市&nbsp;<br>日&nbsp;&nbsp;&nbsp;<br>降水&nbsp;&nbsp;<br>数据&nbsp;&nbsp;<br>和&nbsp;&nbsp;&nbsp;<br>社会&nbsp;&nbsp;<br>经济&nbsp;&nbsp;<br>数据&nbsp;&nbsp;<br>，&nbsp;&nbsp;&nbsp;<br>建立&nbsp;&nbsp;<br>大连市&nbsp;<br>暴雨&nbsp;&nbsp;<br>洪涝&nbsp;&nbsp;<br>灾害&nbsp;&nbsp;<br>综合&nbsp;&nbsp;<br>风险&nbsp;&nbsp;<br>评估&nbsp;&nbsp;<br>模型&nbsp;&nbsp;<br>，&nbsp;&nbsp;&nbsp;<br>对&nbsp;&nbsp;&nbsp;<br>大连市&nbsp;<br>暴雨&nbsp;&nbsp;<br>洪涝&nbsp;&nbsp;<br>灾害&nbsp;&nbsp;<br>的&nbsp;&nbsp;&nbsp;<br>综合&nbsp;&nbsp;<br>风险&nbsp;&nbsp;<br>进行&nbsp;&nbsp;<br>评估&nbsp;&nbsp;<br>。&nbsp;&nbsp;&nbsp;<br>结果&nbsp;&nbsp;<br>表明&nbsp;&nbsp;<br>：&nbsp;&nbsp;&nbsp;<br>大连市&nbsp;<br>具有&nbsp;&nbsp;<br>东北部&nbsp;<br>、&nbsp;&nbsp;&nbsp;<br>西南部&nbsp;<br>地区&nbsp;&nbsp;<br>较&nbsp;&nbsp;&nbsp;<br>高&nbsp;&nbsp;&nbsp;<br>，&nbsp;&nbsp;&nbsp;<br>中部&nbsp;&nbsp;<br>地区&nbsp;&nbsp;<br>较&nbsp;&nbsp;&nbsp;<br>低&nbsp;&nbsp;&nbsp;<br>的&nbsp;&nbsp;&nbsp;<br>特点&nbsp;&nbsp;<br>；&nbsp;&nbsp;&nbsp;<br>已&nbsp;&nbsp;&nbsp;<br>成为&nbsp;&nbsp;<br>防洪&nbsp;&nbsp;<br>工作&nbsp;&nbsp;<br>的&nbsp;&nbsp;&nbsp;<br>重点&nbsp;&nbsp;<br>关注&nbsp;&nbsp;<br>地区&nbsp;&nbsp;<br>。&nbsp;&nbsp;&nbsp;</pre><pre style=\"display: table-cell; font-family: SFMono-Regular,Menlo,Monaco,Consolas,Liberation Mono,Courier New,monospace; white-space: nowrap; line-height: 128%; padding: 0;\">Relati<br>──────<br>root&nbsp;&nbsp;<br>nn&nbsp;&nbsp;&nbsp;&nbsp;<br>nn&nbsp;&nbsp;&nbsp;&nbsp;<br>nn&nbsp;&nbsp;&nbsp;&nbsp;<br>conj&nbsp;&nbsp;<br>cc&nbsp;&nbsp;&nbsp;&nbsp;<br>nn&nbsp;&nbsp;&nbsp;&nbsp;<br>nn&nbsp;&nbsp;&nbsp;&nbsp;<br>dobj&nbsp;&nbsp;<br>punct&nbsp;<br>conj&nbsp;&nbsp;<br>nn&nbsp;&nbsp;&nbsp;&nbsp;<br>nn&nbsp;&nbsp;&nbsp;&nbsp;<br>nn&nbsp;&nbsp;&nbsp;&nbsp;<br>nn&nbsp;&nbsp;&nbsp;&nbsp;<br>amod&nbsp;&nbsp;<br>nn&nbsp;&nbsp;&nbsp;&nbsp;<br>nn&nbsp;&nbsp;&nbsp;&nbsp;<br>dobj&nbsp;&nbsp;<br>punct&nbsp;<br>prep&nbsp;&nbsp;<br>nn&nbsp;&nbsp;&nbsp;&nbsp;<br>nn&nbsp;&nbsp;&nbsp;&nbsp;<br>nn&nbsp;&nbsp;&nbsp;&nbsp;<br>assmod<br>assm&nbsp;&nbsp;<br>amod&nbsp;&nbsp;<br>pobj&nbsp;&nbsp;<br>conj&nbsp;&nbsp;<br>dobj&nbsp;&nbsp;<br>punct&nbsp;<br>nsubj&nbsp;<br>conj&nbsp;&nbsp;<br>punct&nbsp;<br>nsubj&nbsp;<br>ccomp&nbsp;<br>conj&nbsp;&nbsp;<br>punct&nbsp;<br>nn&nbsp;&nbsp;&nbsp;&nbsp;<br>nsubj&nbsp;<br>advmod<br>rcmod&nbsp;<br>punct&nbsp;<br>nn&nbsp;&nbsp;&nbsp;&nbsp;<br>nsubj&nbsp;<br>advmod<br>conj&nbsp;&nbsp;<br>cpm&nbsp;&nbsp;&nbsp;<br>dobj&nbsp;&nbsp;<br>punct&nbsp;<br>advmod<br>conj&nbsp;&nbsp;<br>nn&nbsp;&nbsp;&nbsp;&nbsp;<br>assmod<br>assm&nbsp;&nbsp;<br>advmod<br>rcmod&nbsp;<br>dobj&nbsp;&nbsp;<br>punct&nbsp;</pre></div>"
      ],
      "text/plain": [
       "<IPython.core.display.HTML object>"
      ]
     },
     "metadata": {},
     "output_type": "display_data"
    }
   ],
   "source": [
    "doc.pretty_print()"
   ]
  },
  {
   "cell_type": "code",
   "execution_count": 7,
   "metadata": {},
   "outputs": [
    {
     "name": "stdout",
     "output_type": "stream",
     "text": [
      "1\t利用\t_\t_\t_\t_\t0\troot\t_\t_\n",
      "2\t大连市\t_\t_\t_\t_\t9\tnn\t_\t_\n",
      "3\t日\t_\t_\t_\t_\t9\tnn\t_\t_\n",
      "4\t降水\t_\t_\t_\t_\t9\tnn\t_\t_\n",
      "5\t数据\t_\t_\t_\t_\t9\tconj\t_\t_\n",
      "6\t和\t_\t_\t_\t_\t9\tcc\t_\t_\n",
      "7\t社会\t_\t_\t_\t_\t9\tnn\t_\t_\n",
      "8\t经济\t_\t_\t_\t_\t9\tnn\t_\t_\n",
      "9\t数据\t_\t_\t_\t_\t1\tdobj\t_\t_\n",
      "10\t，\t_\t_\t_\t_\t1\tpunct\t_\t_\n",
      "11\t建立\t_\t_\t_\t_\t1\tconj\t_\t_\n",
      "12\t大连市\t_\t_\t_\t_\t19\tnn\t_\t_\n",
      "13\t暴雨\t_\t_\t_\t_\t15\tnn\t_\t_\n",
      "14\t洪涝\t_\t_\t_\t_\t15\tnn\t_\t_\n",
      "15\t灾害\t_\t_\t_\t_\t19\tnn\t_\t_\n",
      "16\t综合\t_\t_\t_\t_\t17\tamod\t_\t_\n",
      "17\t风险\t_\t_\t_\t_\t19\tnn\t_\t_\n",
      "18\t评估\t_\t_\t_\t_\t19\tnn\t_\t_\n",
      "19\t模型\t_\t_\t_\t_\t11\tdobj\t_\t_\n",
      "20\t，\t_\t_\t_\t_\t1\tpunct\t_\t_\n",
      "21\t对\t_\t_\t_\t_\t29\tprep\t_\t_\n",
      "22\t大连市\t_\t_\t_\t_\t28\tnn\t_\t_\n",
      "23\t暴雨\t_\t_\t_\t_\t25\tnn\t_\t_\n",
      "24\t洪涝\t_\t_\t_\t_\t25\tnn\t_\t_\n",
      "25\t灾害\t_\t_\t_\t_\t28\tassmod\t_\t_\n",
      "26\t的\t_\t_\t_\t_\t25\tassm\t_\t_\n",
      "27\t综合\t_\t_\t_\t_\t28\tamod\t_\t_\n",
      "28\t风险\t_\t_\t_\t_\t21\tpobj\t_\t_\n",
      "29\t进行\t_\t_\t_\t_\t1\tconj\t_\t_\n",
      "30\t评估\t_\t_\t_\t_\t29\tdobj\t_\t_\n",
      "31\t。\t_\t_\t_\t_\t1\tpunct\t_\t_\n",
      "32\t结果\t_\t_\t_\t_\t33\tnsubj\t_\t_\n",
      "33\t表明\t_\t_\t_\t_\t1\tconj\t_\t_\n",
      "34\t：\t_\t_\t_\t_\t33\tpunct\t_\t_\n",
      "35\t大连市\t_\t_\t_\t_\t36\tnsubj\t_\t_\n",
      "36\t具有\t_\t_\t_\t_\t33\tccomp\t_\t_\n",
      "37\t东北部\t_\t_\t_\t_\t39\tconj\t_\t_\n",
      "38\t、\t_\t_\t_\t_\t39\tpunct\t_\t_\n",
      "39\t西南部\t_\t_\t_\t_\t40\tnn\t_\t_\n",
      "40\t地区\t_\t_\t_\t_\t42\tnsubj\t_\t_\n",
      "41\t较\t_\t_\t_\t_\t42\tadvmod\t_\t_\n",
      "42\t高\t_\t_\t_\t_\t49\trcmod\t_\t_\n",
      "43\t，\t_\t_\t_\t_\t42\tpunct\t_\t_\n",
      "44\t中部\t_\t_\t_\t_\t45\tnn\t_\t_\n",
      "45\t地区\t_\t_\t_\t_\t47\tnsubj\t_\t_\n",
      "46\t较\t_\t_\t_\t_\t47\tadvmod\t_\t_\n",
      "47\t低\t_\t_\t_\t_\t42\tconj\t_\t_\n",
      "48\t的\t_\t_\t_\t_\t42\tcpm\t_\t_\n",
      "49\t特点\t_\t_\t_\t_\t36\tdobj\t_\t_\n",
      "50\t；\t_\t_\t_\t_\t1\tpunct\t_\t_\n",
      "51\t已\t_\t_\t_\t_\t52\tadvmod\t_\t_\n",
      "52\t成为\t_\t_\t_\t_\t1\tconj\t_\t_\n",
      "53\t防洪\t_\t_\t_\t_\t54\tnn\t_\t_\n",
      "54\t工作\t_\t_\t_\t_\t58\tassmod\t_\t_\n",
      "55\t的\t_\t_\t_\t_\t54\tassm\t_\t_\n",
      "56\t重点\t_\t_\t_\t_\t57\tadvmod\t_\t_\n",
      "57\t关注\t_\t_\t_\t_\t58\trcmod\t_\t_\n",
      "58\t地区\t_\t_\t_\t_\t52\tdobj\t_\t_\n",
      "59\t。\t_\t_\t_\t_\t1\tpunct\t_\t_\n"
     ]
    }
   ],
   "source": [
    "print(doc.to_conll())"
   ]
  },
  {
   "cell_type": "markdown",
   "metadata": {},
   "source": [
    "## 百度AI 句法依存分析"
   ]
  },
  {
   "cell_type": "code",
   "execution_count": 12,
   "metadata": {},
   "outputs": [
    {
     "name": "stdout",
     "output_type": "stream",
     "text": [
      "{\"items\":[{\"id\":1,\"postag\":\"v\",\"head\":32,\"word\":\"利用\",\"deprel\":\"IC\"},{\"id\":2,\"postag\":\"LOC\",\"head\":4,\"word\":\"大连市\",\"deprel\":\"ATT\"},{\"id\":3,\"postag\":\"n\",\"head\":4,\"word\":\"日\",\"deprel\":\"ATT\"},{\"id\":4,\"postag\":\"vn\",\"head\":5,\"word\":\"降水\",\"deprel\":\"ATT\"},{\"id\":5,\"postag\":\"n\",\"head\":1,\"word\":\"数据\",\"deprel\":\"VOB\"},{\"id\":6,\"postag\":\"c\",\"head\":8,\"word\":\"和\",\"deprel\":\"MT\"},{\"id\":7,\"postag\":\"n\",\"head\":8,\"word\":\"社会经济\",\"deprel\":\"ATT\"},{\"id\":8,\"postag\":\"n\",\"head\":5,\"word\":\"数据\",\"deprel\":\"COO\"},{\"id\":9,\"postag\":\"w\",\"head\":1,\"word\":\"，\",\"deprel\":\"MT\"},{\"id\":10,\"postag\":\"v\",\"head\":1,\"word\":\"建立\",\"deprel\":\"VV\"},{\"id\":11,\"postag\":\"LOC\",\"head\":14,\"word\":\"大连市\",\"deprel\":\"ATT\"},{\"id\":12,\"postag\":\"n\",\"head\":14,\"word\":\"暴雨\",\"deprel\":\"ATT\"},{\"id\":13,\"postag\":\"n\",\"head\":12,\"word\":\"洪涝\",\"deprel\":\"COO\"},{\"id\":14,\"postag\":\"n\",\"head\":16,\"word\":\"灾害\",\"deprel\":\"ATT\"},{\"id\":15,\"postag\":\"vn\",\"head\":16,\"word\":\"综合\",\"deprel\":\"ATT\"},{\"id\":16,\"postag\":\"n\",\"head\":17,\"word\":\"风险\",\"deprel\":\"ATT\"},{\"id\":17,\"postag\":\"vn\",\"head\":18,\"word\":\"评估\",\"deprel\":\"ATT\"},{\"id\":18,\"postag\":\"n\",\"head\":10,\"word\":\"模型\",\"deprel\":\"VOB\"},{\"id\":19,\"postag\":\"w\",\"head\":10,\"word\":\"，\",\"deprel\":\"MT\"},{\"id\":20,\"postag\":\"p\",\"head\":28,\"word\":\"对\",\"deprel\":\"ADV\"},{\"id\":21,\"postag\":\"LOC\",\"head\":24,\"word\":\"大连市\",\"deprel\":\"ATT\"},{\"id\":22,\"postag\":\"n\",\"head\":24,\"word\":\"暴雨\",\"deprel\":\"ATT\"},{\"id\":23,\"postag\":\"n\",\"head\":24,\"word\":\"洪涝\",\"deprel\":\"ATT\"},{\"id\":24,\"postag\":\"n\",\"head\":27,\"word\":\"灾害\",\"deprel\":\"ATT\"},{\"id\":25,\"postag\":\"u\",\"head\":24,\"word\":\"的\",\"deprel\":\"MT\"},{\"id\":26,\"postag\":\"vn\",\"head\":27,\"word\":\"综合\",\"deprel\":\"ATT\"},{\"id\":27,\"postag\":\"n\",\"head\":20,\"word\":\"风险\",\"deprel\":\"POB\"},{\"id\":28,\"postag\":\"v\",\"head\":1,\"word\":\"进行\",\"deprel\":\"VV\"},{\"id\":29,\"postag\":\"vn\",\"head\":28,\"word\":\"评估\",\"deprel\":\"VOB\"},{\"id\":30,\"postag\":\"w\",\"head\":1,\"word\":\"。\",\"deprel\":\"MT\"},{\"id\":31,\"postag\":\"n\",\"head\":32,\"word\":\"结果\",\"deprel\":\"SBV\"},{\"id\":32,\"postag\":\"v\",\"head\":0,\"word\":\"表明\",\"deprel\":\"HED\"},{\"id\":33,\"postag\":\"w\",\"head\":32,\"word\":\"：\",\"deprel\":\"MT\"},{\"id\":34,\"postag\":\"LOC\",\"head\":35,\"word\":\"大连市\",\"deprel\":\"SBV\"},{\"id\":35,\"postag\":\"v\",\"head\":39,\"word\":\"具有\",\"deprel\":\"ATT\"},{\"id\":36,\"postag\":\"f\",\"head\":39,\"word\":\"东北部\",\"deprel\":\"ATT\"},{\"id\":37,\"postag\":\"w\",\"head\":36,\"word\":\"、\",\"deprel\":\"MT\"},{\"id\":38,\"postag\":\"f\",\"head\":39,\"word\":\"西南部\",\"deprel\":\"ATT\"},{\"id\":39,\"postag\":\"n\",\"head\":40,\"word\":\"地区\",\"deprel\":\"SBV\"},{\"id\":40,\"postag\":\"a\",\"head\":46,\"word\":\"较高\",\"deprel\":\"ATT\"},{\"id\":41,\"postag\":\"w\",\"head\":40,\"word\":\"，\",\"deprel\":\"MT\"},{\"id\":42,\"postag\":\"n\",\"head\":46,\"word\":\"中部地区\",\"deprel\":\"ATT\"},{\"id\":43,\"postag\":\"d\",\"head\":44,\"word\":\"较\",\"deprel\":\"ADV\"},{\"id\":44,\"postag\":\"a\",\"head\":46,\"word\":\"低\",\"deprel\":\"ATT\"},{\"id\":45,\"postag\":\"u\",\"head\":44,\"word\":\"的\",\"deprel\":\"MT\"},{\"id\":46,\"postag\":\"n\",\"head\":49,\"word\":\"特点\",\"deprel\":\"SBV\"},{\"id\":47,\"postag\":\"w\",\"head\":46,\"word\":\"；\",\"deprel\":\"MT\"},{\"id\":48,\"postag\":\"d\",\"head\":49,\"word\":\"已\",\"deprel\":\"ADV\"},{\"id\":49,\"postag\":\"v\",\"head\":32,\"word\":\"成为\",\"deprel\":\"VOB\"},{\"id\":50,\"postag\":\"vn\",\"head\":51,\"word\":\"防洪\",\"deprel\":\"ATT\"},{\"id\":51,\"postag\":\"n\",\"head\":54,\"word\":\"工作\",\"deprel\":\"VOB\"},{\"id\":52,\"postag\":\"u\",\"head\":51,\"word\":\"的\",\"deprel\":\"MT\"},{\"id\":53,\"postag\":\"d\",\"head\":54,\"word\":\"重点\",\"deprel\":\"ADV\"},{\"id\":54,\"postag\":\"v\",\"head\":55,\"word\":\"关注\",\"deprel\":\"ATT\"},{\"id\":55,\"postag\":\"n\",\"head\":49,\"word\":\"地区\",\"deprel\":\"VOB\"},{\"id\":56,\"postag\":\"w\",\"head\":32,\"word\":\"。\",\"deprel\":\"MT\"}],\"text\":\"利用大连市日降水数据和社会经济数据，建立大连市暴雨洪涝灾害综合风险评估模型，对大连市暴雨洪涝灾害的综合风险进行评估。结果表明：大连市具有东北部、西南部地区较高，中部地区较低的特点；已成为防洪工作的重点关注地区。\",\"log_id\":1619235954373422028}\n"
     ]
    }
   ],
   "source": [
    "import requests\n",
    "import json\n",
    "\n",
    "API_KEY = \"\"\n",
    "SECRET_KEY = \"\"\n",
    "\n",
    "def main():\n",
    "        \n",
    "    url = \"https://aip.baidubce.com/rpc/2.0/nlp/v2/depparser?charset=UTF-8&access_token=\" + get_access_token()\n",
    "    \n",
    "    payload = json.dumps({\n",
    "        \"text\": \"利用大连市日降水数据和社会经济数据，建立大连市暴雨洪涝灾害综合风险评估模型，对大连市暴雨洪涝灾害的综合风险进行评估。结果表明：大连市具有东北部、西南部地区较高，中部地区较低的特点；已成为防洪工作的重点关注地区。\"\n",
    "    })\n",
    "    headers = {\n",
    "        'Content-Type': 'application/json',\n",
    "        'Accept': 'application/json'\n",
    "    }\n",
    "    \n",
    "    response = requests.request(\"POST\", url, headers=headers, data=payload)\n",
    "    \n",
    "    print(response.text)\n",
    "    return response.text\n",
    "    \n",
    "\n",
    "def get_access_token():\n",
    "    \"\"\"\n",
    "    使用 AK，SK 生成鉴权签名（Access Token）\n",
    "    :return: access_token，或是None(如果错误)\n",
    "    \"\"\"\n",
    "    url = \"https://aip.baidubce.com/oauth/2.0/token\"\n",
    "    params = {\"grant_type\": \"client_credentials\", \"client_id\": API_KEY, \"client_secret\": SECRET_KEY}\n",
    "    return str(requests.post(url, params=params).json().get(\"access_token\"))\n",
    "\n",
    "# if __name__ == '__main__':\n",
    "#     main()\n",
    "\n",
    "response=main()"
   ]
  }
 ],
 "metadata": {
  "kernelspec": {
   "display_name": "public_3.7",
   "language": "python",
   "name": "python3"
  },
  "language_info": {
   "codemirror_mode": {
    "name": "ipython",
    "version": 3
   },
   "file_extension": ".py",
   "mimetype": "text/x-python",
   "name": "python",
   "nbconvert_exporter": "python",
   "pygments_lexer": "ipython3",
   "version": "3.7.10 (default, Feb 26 2021, 13:06:18) [MSC v.1916 64 bit (AMD64)]"
  },
  "orig_nbformat": 4,
  "vscode": {
   "interpreter": {
    "hash": "c3e020ab0827a27d90f9d2fa2437e75d699e80a3c375730362d4315d8ebb6622"
   }
  }
 },
 "nbformat": 4,
 "nbformat_minor": 2
}
