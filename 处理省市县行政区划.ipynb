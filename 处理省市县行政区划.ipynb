{
 "cells": [
  {
   "attachments": {},
   "cell_type": "markdown",
   "metadata": {},
   "source": [
    "# 整理省级行政区"
   ]
  },
  {
   "cell_type": "code",
   "execution_count": 5,
   "metadata": {},
   "outputs": [
    {
     "name": "stdout",
     "output_type": "stream",
     "text": [
      "数据读取完成\n"
     ]
    }
   ],
   "source": [
    "import ijson\n",
    "from geomet import wkt\n",
    "\n",
    "file=open(\"./rdf/省份.ttl\",\"a\",encoding=\"utf-8\")\n",
    "\n",
    "\n",
    "with open('./矢量数据/省级行政区.geojson', 'r', encoding='utf-8') as f:\n",
    "    objects = ijson.items(f, 'features.item')\n",
    "    # 这个objects在这里就是相当于一个生成器，可以调用next函数取它的下一个值\n",
    "    while True:\n",
    "        try:\n",
    "            # print(objects.__next__())\n",
    "\n",
    "            data = objects.__next__()\n",
    "            properties=data[\"properties\"]\n",
    "            geometry = data['geometry']\n",
    "            towkt = wkt.dumps(geometry, decimals=8)\n",
    "            # if data['properties']['省'] == \"北京市\":\n",
    "            #     print(towkt)\n",
    "            geometry=create_geometry(properties[\"省代码\"],towkt)\n",
    "            feature=create_feature(properties[\"省代码\"],properties[\"省\"],properties[\"类型\"])\n",
    "            file.write(geometry)\n",
    "            file.write(feature)\n",
    "\n",
    "        except StopIteration as e:\n",
    "            print(\"数据读取完成\")\n",
    "            break\n",
    "\n",
    "file.close()"
   ]
  },
  {
   "attachments": {},
   "cell_type": "markdown",
   "metadata": {},
   "source": [
    "## 根据wkt创建geometry\n",
    "\n",
    "\\###  http://www.semanticweb.org/wen/ontologies/2022/8/FloodDisasterEventOntology#geometry.polygon.region.110000\n",
    ":geometry.polygon.region.110000 rdf:type owl:NamedIndividual ;\n",
    "                                geosparql:asWKT \"\"\"MULTIPOLYGON (((116.67527402 41.04010201, 116.67616420 41.04006172, 116.67679309 41.04012125, 116.67734482 41.04036821, 116.67786403 41.04065732, 116.67811217 41.04502816, 116.67091587 41.04108628, 116.67355366 41.04045864, 116.67500175 41.04014031, 116.67527402 41.04010201)))\"\"\"^^geosparql:wktLiteral .\n"
   ]
  },
  {
   "cell_type": "code",
   "execution_count": 1,
   "metadata": {},
   "outputs": [],
   "source": [
    "\n",
    "def create_geometry(region_id,wkt_text):\n",
    "    text=f'''\n",
    "###  http://www.semanticweb.org/wen/ontologies/2022/8/FloodDisasterEventOntology#geometry.polygon.region.{region_id}\n",
    ":geometry.polygon.region.{region_id} rdf:type owl:NamedIndividual ;\n",
    "                                geosparql:asWKT \"\"\"{wkt_text}\"\"\"^^geosparql:wktLiteral .\n",
    "'''\n",
    "\n",
    "    return  text"
   ]
  },
  {
   "attachments": {},
   "cell_type": "markdown",
   "metadata": {},
   "source": [
    "## 根据geojson的属性值创建Feature\n",
    "\n",
    "\n",
    "\\###  http://www.semanticweb.org/wen/ontologies/2022/8/FloodDisasterEventOntology#region.110000\n",
    ":region.110000 rdf:type owl:NamedIndividual ,\n",
    "                        :AdministrativeRegion_Province ;\n",
    "               geosparql:hasGeometry :geometry.polygon.region.110000 ;\n",
    "               :RegionID 110000 ;\n",
    "               :RegionName \"北京市\" ;\n",
    "               :RegionType \"直辖市\" ;\n",
    "               rdfs:label \"北京市\" ."
   ]
  },
  {
   "cell_type": "code",
   "execution_count": 3,
   "metadata": {},
   "outputs": [],
   "source": [
    "def create_feature(id,region_name,region_type):\n",
    "    text=f'''\n",
    "###  http://www.semanticweb.org/wen/ontologies/2022/8/FloodDisasterEventOntology#region.{id}\n",
    ":region.{id} rdf:type owl:NamedIndividual ,\n",
    "                        :AdministrativeRegion_Province ;\n",
    "               geosparql:hasGeometry :geometry.polygon.region.{id} ;\n",
    "               :RegionID {id} ;\n",
    "               :RegionName \"{region_name}\" ;\n",
    "               :RegionType \"{region_type}\" ;\n",
    "               rdfs:label \"{region_name}\" .\n",
    "'''\n",
    "    return text"
   ]
  },
  {
   "attachments": {},
   "cell_type": "markdown",
   "metadata": {},
   "source": [
    "# 整理市级行政区\n",
    "\n",
    "创建Feature要素的时候，要加上Area面积属性\n",
    "\n",
    "需要多加一个省和市的包含关系\n"
   ]
  },
  {
   "cell_type": "code",
   "execution_count": 1,
   "metadata": {},
   "outputs": [],
   "source": [
    "# 创建要素\n",
    "def create_feature(id,region_name,region_type,region_area):\n",
    "    text=f'''\n",
    "###  http://www.semanticweb.org/wen/ontologies/2022/8/FloodDisasterEventOntology#region.{id}\n",
    ":region.{id} rdf:type owl:NamedIndividual ,\n",
    "                        :AdministrativeRegion_Province ;\n",
    "               geosparql:hasGeometry :geometry.polygon.region.{id} ;\n",
    "               :RegionID {id} ;\n",
    "               :RegionName \"{region_name}\" ;\n",
    "               :RegionType \"{region_type}\" ;\n",
    "               :RegionArea {region_area} ;\n",
    "               rdfs:label \"{region_name}\" .\n",
    "'''\n",
    "    return text\n",
    "\n",
    "\n",
    "# 创建geometry\n",
    "def create_geometry(region_id,wkt_text):\n",
    "    text=f'''\n",
    "###  http://www.semanticweb.org/wen/ontologies/2022/8/FloodDisasterEventOntology#geometry.polygon.region.{region_id}\n",
    ":geometry.polygon.region.{region_id} rdf:type owl:NamedIndividual ;\n",
    "                                geosparql:asWKT \"\"\"{wkt_text}\"\"\"^^geosparql:wktLiteral .\n",
    "'''\n",
    "\n",
    "    return  text"
   ]
  },
  {
   "cell_type": "code",
   "execution_count": 5,
   "metadata": {},
   "outputs": [],
   "source": [
    "# 创建省和市之间的包含关系\n",
    "\n",
    "def create_contains(province_id,city_id):\n",
    "    text=f'''\n",
    ":region.{province_id} geosparql:sfContains :region.{city_id} .\n",
    "'''\n",
    "    return text "
   ]
  },
  {
   "cell_type": "code",
   "execution_count": 5,
   "metadata": {},
   "outputs": [
    {
     "name": "stdout",
     "output_type": "stream",
     "text": [
      "数据读取完成\n"
     ]
    }
   ],
   "source": [
    "import ijson\n",
    "from geomet import wkt\n",
    "\n",
    "file=open(\"./rdf/市级行政区.ttl\",\"a\",encoding=\"utf-8\")\n",
    "\n",
    "\n",
    "with open('./矢量数据/市级行政区.geojson', 'r', encoding='utf-8') as f:\n",
    "    objects = ijson.items(f, 'features.item')\n",
    "    # 这个objects在这里就是相当于一个生成器，可以调用next函数取它的下一个值\n",
    "    while True:\n",
    "        try:\n",
    "            # print(objects.__next__())\n",
    "\n",
    "            data = objects.__next__()\n",
    "            properties=data[\"properties\"]\n",
    "            geometry = data['geometry']\n",
    "            towkt = wkt.dumps(geometry, decimals=8)\n",
    "            # geometry=create_geometry(properties[\"市代码\"],towkt)\n",
    "            # feature=create_feature(properties[\"市代码\"],properties[\"市\"],properties[\"类型\"],properties[\"area\"])\n",
    "            contains=create_contains(properties[\"省代码\"],properties[\"市代码\"])\n",
    "            # file.write(geometry)\n",
    "            # file.write(feature)\n",
    "            file.write(contains)\n",
    "\n",
    "        except StopIteration as e:\n",
    "            print(\"数据读取完成\")\n",
    "            break\n",
    "\n",
    "file.close()"
   ]
  },
  {
   "attachments": {},
   "cell_type": "markdown",
   "metadata": {},
   "source": [
    "# 整理县级行政区"
   ]
  },
  {
   "cell_type": "code",
   "execution_count": 6,
   "metadata": {},
   "outputs": [
    {
     "name": "stdout",
     "output_type": "stream",
     "text": [
      "数据读取完成\n"
     ]
    }
   ],
   "source": [
    "import ijson\n",
    "from geomet import wkt\n",
    "\n",
    "file=open(\"./rdf/县级行政区.ttl\",\"a\",encoding=\"utf-8\")\n",
    "\n",
    "\n",
    "with open('./矢量数据/县级行政区.geojson', 'r', encoding='utf-8') as f:\n",
    "    objects = ijson.items(f, 'features.item')\n",
    "    # 这个objects在这里就是相当于一个生成器，可以调用next函数取它的下一个值\n",
    "    while True:\n",
    "        try:\n",
    "            # print(objects.__next__())\n",
    "\n",
    "            data = objects.__next__()\n",
    "            properties=data[\"properties\"]\n",
    "            geometry = data['geometry']\n",
    "            towkt = wkt.dumps(geometry, decimals=8)\n",
    "            geometry=create_geometry(properties[\"PAC\"],towkt)\n",
    "            feature=create_feature(properties[\"PAC\"],properties[\"NAME\"],properties[\"类型\"])\n",
    "            contains=create_contains(properties[\"市代码\"],properties[\"PAC\"])\n",
    "            file.write(geometry)\n",
    "            file.write(feature)\n",
    "            file.write(contains)\n",
    "\n",
    "        except StopIteration as e:\n",
    "            print(\"数据读取完成\")\n",
    "            break\n",
    "\n",
    "file.close()"
   ]
  },
  {
   "attachments": {},
   "cell_type": "markdown",
   "metadata": {},
   "source": [
    "# 补充Geometry的类型，应该是http://www.opengis.net/ont/sf#Polygon."
   ]
  },
  {
   "cell_type": "code",
   "execution_count": null,
   "metadata": {},
   "outputs": [],
   "source": [
    "# 补充geometry的类型属性，\n",
    "# :geometry.polygon.region.{region_id} rdf:type http://www.opengis.net/ont/sf#Polygon.\n"
   ]
  },
  {
   "cell_type": "code",
   "execution_count": 6,
   "metadata": {},
   "outputs": [
    {
     "name": "stdout",
     "output_type": "stream",
     "text": [
      "省级行政区数据读取完成\n",
      "市级行政区数据读取完成\n",
      "县级行政区数据读取完成\n"
     ]
    }
   ],
   "source": [
    "import ijson\n",
    "from geomet import wkt\n",
    "\n",
    "file=open(\"./rdf/行政区几何补充.ttl\",\"a\",encoding=\"utf-8\")\n",
    "\n",
    "\n",
    "with open('./矢量数据/省级行政区.geojson', 'r', encoding='utf-8') as f:\n",
    "    objects = ijson.items(f, 'features.item')\n",
    "    # 这个objects在这里就是相当于一个生成器，可以调用next函数取它的下一个值\n",
    "    while True:\n",
    "        try:\n",
    "            data = objects.__next__()\n",
    "            properties=data[\"properties\"]\n",
    "            provinceID=properties[\"省代码\"]\n",
    "            text=f''':geometry.polygon.region.{provinceID} rdf:type <http://www.opengis.net/ont/sf#Polygon>.\n",
    "'''\n",
    "            file.write(text)\n",
    "\n",
    "        except StopIteration as e:\n",
    "            print(\"省级行政区数据读取完成\")\n",
    "            break\n",
    "\n",
    "with open('./矢量数据/市级行政区.geojson', 'r', encoding='utf-8') as f:\n",
    "    objects = ijson.items(f, 'features.item')\n",
    "    # 这个objects在这里就是相当于一个生成器，可以调用next函数取它的下一个值\n",
    "    while True:\n",
    "        try:\n",
    "            data = objects.__next__()\n",
    "            properties=data[\"properties\"]\n",
    "            cityID = properties[\"市代码\"]\n",
    "            text=f''':geometry.polygon.region.{cityID} rdf:type <http://www.opengis.net/ont/sf#Polygon>.\n",
    "'''\n",
    "            file.write(text)\n",
    "\n",
    "        except StopIteration as e:\n",
    "            print(\"市级行政区数据读取完成\")\n",
    "            break\n",
    "\n",
    "with open('./矢量数据/县级行政区.geojson', 'r', encoding='utf-8') as f:\n",
    "    objects = ijson.items(f, 'features.item')\n",
    "    # 这个objects在这里就是相当于一个生成器，可以调用next函数取它的下一个值\n",
    "    while True:\n",
    "        try:\n",
    "            data = objects.__next__()\n",
    "            properties=data[\"properties\"]\n",
    "            countyID=properties[\"PAC\"]\n",
    "            text=f''':geometry.polygon.region.{countyID} rdf:type <http://www.opengis.net/ont/sf#Polygon>.\n",
    "'''\n",
    "            file.write(text)\n",
    "\n",
    "        except StopIteration as e:\n",
    "            print(\"县级行政区数据读取完成\")\n",
    "            break\n",
    "\n",
    "\n",
    "file.close()"
   ]
  }
 ],
 "metadata": {
  "kernelspec": {
   "display_name": "public_3.7",
   "language": "python",
   "name": "python3"
  },
  "language_info": {
   "codemirror_mode": {
    "name": "ipython",
    "version": 3
   },
   "file_extension": ".py",
   "mimetype": "text/x-python",
   "name": "python",
   "nbconvert_exporter": "python",
   "pygments_lexer": "ipython3",
   "version": "3.7.10"
  },
  "orig_nbformat": 4,
  "vscode": {
   "interpreter": {
    "hash": "c3e020ab0827a27d90f9d2fa2437e75d699e80a3c375730362d4315d8ebb6622"
   }
  }
 },
 "nbformat": 4,
 "nbformat_minor": 2
}
